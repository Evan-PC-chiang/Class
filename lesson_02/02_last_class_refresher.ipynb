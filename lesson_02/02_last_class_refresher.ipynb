{
  "cells": [
    {
      "cell_type": "markdown",
      "metadata": {
        "id": "WSBmZwXD4P4f"
      },
      "source": [
        "# Lesson 02: Warm-up & Last Class Refresher\n",
        "\n",
        "Recall that last week's objectives were:\n",
        "\n",
        "* Describe fundamental aspects of a working Python script\n",
        "* Implement novel functions and for loops along with appropriate unit tests\n",
        "* Utilize 'external' python packages\n",
        "\n",
        "This warm-up aims to build on those objectives and reinforce them.\n",
        "\n",
        "\n",
        "## 1. Basics of functions\n",
        "\n",
        "### 1(a): ins and outs\n",
        "\n",
        "Run the following cell.  It doesn't work as expected.  Explain why (in a markdown cell below it) and create a new cell below that with a fixed version of the code."
      ]
    },
    {
      "cell_type": "code",
      "execution_count": null,
      "metadata": {
        "id": "HRdavdTl4P4h",
        "colab": {
          "base_uri": "https://localhost:8080/",
          "height": 351
        },
        "outputId": "b3f341f9-3e07-4646-b1c7-708c956b93ce"
      },
      "outputs": [
        {
          "output_type": "error",
          "ename": "TypeError",
          "evalue": "ignored",
          "traceback": [
            "\u001b[0;31m---------------------------------------------------------------------------\u001b[0m",
            "\u001b[0;31mTypeError\u001b[0m                                 Traceback (most recent call last)",
            "\u001b[0;32m<ipython-input-1-dd3af1118aff>\u001b[0m in \u001b[0;36m<cell line: 11>\u001b[0;34m()\u001b[0m\n\u001b[1;32m      9\u001b[0m \u001b[0;34m\u001b[0m\u001b[0m\n\u001b[1;32m     10\u001b[0m \u001b[0;31m# test the factorial function; this should print 120\u001b[0m\u001b[0;34m\u001b[0m\u001b[0;34m\u001b[0m\u001b[0m\n\u001b[0;32m---> 11\u001b[0;31m \u001b[0mprint\u001b[0m\u001b[0;34m(\u001b[0m\u001b[0mfactorial\u001b[0m\u001b[0;34m(\u001b[0m\u001b[0;36m5\u001b[0m\u001b[0;34m)\u001b[0m\u001b[0;34m)\u001b[0m\u001b[0;34m\u001b[0m\u001b[0;34m\u001b[0m\u001b[0m\n\u001b[0m",
            "\u001b[0;32m<ipython-input-1-dd3af1118aff>\u001b[0m in \u001b[0;36mfactorial\u001b[0;34m(n)\u001b[0m\n\u001b[1;32m      5\u001b[0m         \u001b[0mfac\u001b[0m \u001b[0;34m=\u001b[0m \u001b[0;36m1\u001b[0m\u001b[0;34m\u001b[0m\u001b[0;34m\u001b[0m\u001b[0m\n\u001b[1;32m      6\u001b[0m     \u001b[0;32melse\u001b[0m\u001b[0;34m:\u001b[0m\u001b[0;34m\u001b[0m\u001b[0;34m\u001b[0m\u001b[0m\n\u001b[0;32m----> 7\u001b[0;31m         \u001b[0mfac\u001b[0m \u001b[0;34m=\u001b[0m \u001b[0mn\u001b[0m \u001b[0;34m*\u001b[0m \u001b[0mfactorial\u001b[0m\u001b[0;34m(\u001b[0m\u001b[0mn\u001b[0m\u001b[0;34m-\u001b[0m\u001b[0;36m1\u001b[0m\u001b[0;34m)\u001b[0m\u001b[0;34m\u001b[0m\u001b[0;34m\u001b[0m\u001b[0m\n\u001b[0m\u001b[1;32m      8\u001b[0m \u001b[0;34m\u001b[0m\u001b[0m\n\u001b[1;32m      9\u001b[0m \u001b[0;34m\u001b[0m\u001b[0m\n",
            "\u001b[0;32m<ipython-input-1-dd3af1118aff>\u001b[0m in \u001b[0;36mfactorial\u001b[0;34m(n)\u001b[0m\n\u001b[1;32m      5\u001b[0m         \u001b[0mfac\u001b[0m \u001b[0;34m=\u001b[0m \u001b[0;36m1\u001b[0m\u001b[0;34m\u001b[0m\u001b[0;34m\u001b[0m\u001b[0m\n\u001b[1;32m      6\u001b[0m     \u001b[0;32melse\u001b[0m\u001b[0;34m:\u001b[0m\u001b[0;34m\u001b[0m\u001b[0;34m\u001b[0m\u001b[0m\n\u001b[0;32m----> 7\u001b[0;31m         \u001b[0mfac\u001b[0m \u001b[0;34m=\u001b[0m \u001b[0mn\u001b[0m \u001b[0;34m*\u001b[0m \u001b[0mfactorial\u001b[0m\u001b[0;34m(\u001b[0m\u001b[0mn\u001b[0m\u001b[0;34m-\u001b[0m\u001b[0;36m1\u001b[0m\u001b[0;34m)\u001b[0m\u001b[0;34m\u001b[0m\u001b[0;34m\u001b[0m\u001b[0m\n\u001b[0m\u001b[1;32m      8\u001b[0m \u001b[0;34m\u001b[0m\u001b[0m\n\u001b[1;32m      9\u001b[0m \u001b[0;34m\u001b[0m\u001b[0m\n",
            "\u001b[0;32m<ipython-input-1-dd3af1118aff>\u001b[0m in \u001b[0;36mfactorial\u001b[0;34m(n)\u001b[0m\n\u001b[1;32m      5\u001b[0m         \u001b[0mfac\u001b[0m \u001b[0;34m=\u001b[0m \u001b[0;36m1\u001b[0m\u001b[0;34m\u001b[0m\u001b[0;34m\u001b[0m\u001b[0m\n\u001b[1;32m      6\u001b[0m     \u001b[0;32melse\u001b[0m\u001b[0;34m:\u001b[0m\u001b[0;34m\u001b[0m\u001b[0;34m\u001b[0m\u001b[0m\n\u001b[0;32m----> 7\u001b[0;31m         \u001b[0mfac\u001b[0m \u001b[0;34m=\u001b[0m \u001b[0mn\u001b[0m \u001b[0;34m*\u001b[0m \u001b[0mfactorial\u001b[0m\u001b[0;34m(\u001b[0m\u001b[0mn\u001b[0m\u001b[0;34m-\u001b[0m\u001b[0;36m1\u001b[0m\u001b[0;34m)\u001b[0m\u001b[0;34m\u001b[0m\u001b[0;34m\u001b[0m\u001b[0m\n\u001b[0m\u001b[1;32m      8\u001b[0m \u001b[0;34m\u001b[0m\u001b[0m\n\u001b[1;32m      9\u001b[0m \u001b[0;34m\u001b[0m\u001b[0m\n",
            "\u001b[0;32m<ipython-input-1-dd3af1118aff>\u001b[0m in \u001b[0;36mfactorial\u001b[0;34m(n)\u001b[0m\n\u001b[1;32m      5\u001b[0m         \u001b[0mfac\u001b[0m \u001b[0;34m=\u001b[0m \u001b[0;36m1\u001b[0m\u001b[0;34m\u001b[0m\u001b[0;34m\u001b[0m\u001b[0m\n\u001b[1;32m      6\u001b[0m     \u001b[0;32melse\u001b[0m\u001b[0;34m:\u001b[0m\u001b[0;34m\u001b[0m\u001b[0;34m\u001b[0m\u001b[0m\n\u001b[0;32m----> 7\u001b[0;31m         \u001b[0mfac\u001b[0m \u001b[0;34m=\u001b[0m \u001b[0mn\u001b[0m \u001b[0;34m*\u001b[0m \u001b[0mfactorial\u001b[0m\u001b[0;34m(\u001b[0m\u001b[0mn\u001b[0m\u001b[0;34m-\u001b[0m\u001b[0;36m1\u001b[0m\u001b[0;34m)\u001b[0m\u001b[0;34m\u001b[0m\u001b[0;34m\u001b[0m\u001b[0m\n\u001b[0m\u001b[1;32m      8\u001b[0m \u001b[0;34m\u001b[0m\u001b[0m\n\u001b[1;32m      9\u001b[0m \u001b[0;34m\u001b[0m\u001b[0m\n",
            "\u001b[0;31mTypeError\u001b[0m: unsupported operand type(s) for *: 'int' and 'NoneType'"
          ]
        }
      ],
      "source": [
        "def factorial(n):\n",
        "    \"\"\"Calculates the factorial of a number.\"\"\"\n",
        "    fac = 1\n",
        "    if n == 1:\n",
        "        fac = 1\n",
        "    else:\n",
        "        fac = n * factorial(n-1)\n",
        "\n",
        "\n",
        "# test the factorial function; this should print 120\n",
        "print(factorial(5))"
      ]
    },
    {
      "cell_type": "markdown",
      "source": [
        "I think its because it's not return anything for factorial so it's not working."
      ],
      "metadata": {
        "id": "DudYXUrQ5LqI"
      }
    },
    {
      "cell_type": "markdown",
      "metadata": {
        "id": "sORI-FDi4P4h"
      },
      "source": [
        "put answer to 1a here"
      ]
    },
    {
      "cell_type": "code",
      "execution_count": null,
      "metadata": {
        "id": "JAvK8MrI4P4i",
        "colab": {
          "base_uri": "https://localhost:8080/"
        },
        "outputId": "27bdf2bd-54d2-464f-fca9-3a2a79b653df"
      },
      "outputs": [
        {
          "output_type": "stream",
          "name": "stdout",
          "text": [
            "120\n"
          ]
        }
      ],
      "source": [
        "# put correct code for 1a here\n",
        "\n",
        "def factorial(n):\n",
        "    \"\"\"Calculates the factorial of a number.\"\"\"\n",
        "    fac = 1\n",
        "    if n == 1:\n",
        "        return 1\n",
        "    else:\n",
        "        return n * factorial(n-1)\n",
        "\n",
        "\n",
        "# test the factorial function; this should print 120\n",
        "print(factorial(5))"
      ]
    },
    {
      "cell_type": "markdown",
      "metadata": {
        "id": "k71NoGG74P4i"
      },
      "source": [
        "### 1(b): Writing new functions\n",
        "\n",
        "Write a function representing the formula $z = x^2 + y^2$ and verify that it works as expected."
      ]
    },
    {
      "cell_type": "code",
      "execution_count": null,
      "metadata": {
        "id": "rfY5WRdz4P4i",
        "colab": {
          "base_uri": "https://localhost:8080/"
        },
        "outputId": "71c372da-ee30-45a3-ae3f-7253ed3278b7"
      },
      "outputs": [
        {
          "output_type": "stream",
          "name": "stdout",
          "text": [
            "25\n"
          ]
        }
      ],
      "source": [
        "# put code for 1b here\n",
        "def formula(x,y):\n",
        "  return x**2 + y**2\n",
        "\n",
        "\n",
        "# test the  function\n",
        "print(formula(3,4))"
      ]
    },
    {
      "cell_type": "markdown",
      "metadata": {
        "id": "5Sav32BG4P4i"
      },
      "source": [
        "### 1(c): Scope\n",
        "\n",
        "We haven't yet discussed the concept of *scope*, so we'll introduce it here through examining an interesting effect (and we'll discuss it more as time goes on.)\n",
        "\n",
        "Run the cell below.  We see that the value of `a` is redefined when `redefine_and_print_a()` is called, so why does the last print statement contain the original definition of `a` and not the one it was given within the function?\n"
      ]
    },
    {
      "cell_type": "code",
      "execution_count": null,
      "metadata": {
        "id": "MY3ll1fn4P4i",
        "colab": {
          "base_uri": "https://localhost:8080/"
        },
        "outputId": "12cb0be0-5455-46a6-fb67-df5512e21d0c"
      },
      "outputs": [
        {
          "output_type": "stream",
          "name": "stdout",
          "text": [
            "1: This is `a` with global scope.\n",
            "2: This is `a` with local scope.\n",
            "3: This is `a` with global scope.\n"
          ]
        }
      ],
      "source": [
        "# define a as a global variable here\n",
        "a = \"This is `a` with global scope.\"\n",
        "# print a to show its value\n",
        "print(f\"1: {a}\")\n",
        "\n",
        "# define a function\n",
        "def redefine_and_print_a():\n",
        "    # define a as a local variable here\n",
        "    a = \"This is `a` with local scope.\"\n",
        "    # print a to show its value\n",
        "    print(f\"2: {a}\")\n",
        "\n",
        "# call the function\n",
        "redefine_and_print_a()\n",
        "\n",
        "# print a one more time to show its value\n",
        "print(f\"3: {a}\")\n",
        "\n"
      ]
    },
    {
      "cell_type": "markdown",
      "metadata": {
        "id": "1NcrnpBG4P4j"
      },
      "source": [
        "put your guess/answer to 1c here."
      ]
    },
    {
      "cell_type": "markdown",
      "source": [
        "I think that's because you did not return a with local scope. If you do return it and assign it again, than it will change."
      ],
      "metadata": {
        "id": "UV6SDM3S6aq6"
      }
    },
    {
      "cell_type": "code",
      "source": [
        "\"\"\" test \"\"\"\n",
        "\n",
        "# define a as a global variable here\n",
        "a = \"This is `a` with global scope.\"\n",
        "# print a to show its value\n",
        "print(f\"1: {a}\")\n",
        "\n",
        "# define a function\n",
        "def redefine_and_print_a():\n",
        "    # define a as a local variable here\n",
        "    a = \"This is `a` with local scope.\"\n",
        "    # print a to show its value\n",
        "    print(f\"2: {a}\")\n",
        "\n",
        "# call the function\n",
        "    redefine_and_print_a()\n",
        "\n",
        "# print a one more time to show its value\n",
        "print(f\"3: {a}\")\n"
      ],
      "metadata": {
        "colab": {
          "base_uri": "https://localhost:8080/"
        },
        "id": "pV_0Jlib6z2I",
        "outputId": "b966e87c-0458-4e9c-91ad-5229c183d612"
      },
      "execution_count": null,
      "outputs": [
        {
          "output_type": "stream",
          "name": "stdout",
          "text": [
            "1: This is `a` with global scope.\n",
            "3: This is `a` with global scope.\n"
          ]
        }
      ]
    },
    {
      "cell_type": "markdown",
      "metadata": {
        "id": "CU6feVnm4P4j"
      },
      "source": [
        "## 2. Using external packages\n",
        "\n",
        "Make a plot of the following equation  using `numpy` and `matplotlib`.  Use `x` values ranging from -8 to 8, and make plots using the following values of $\\sigma$: $\\sigma = [0.25,0.5,1,2,4]$\n",
        "\n",
        "$$N(x) = \\frac{1}{\\sigma \\sqrt{2 \\pi}} e^{-\\frac{x^2}{2 \\sigma^2}}$$\n",
        "\n",
        "Your solution should (a) define a new function to represent this formula, and (b) use a `for` loop.\n",
        "\n",
        "If you have time, customize the x- and y-axis labels, and add a legend."
      ]
    },
    {
      "cell_type": "code",
      "execution_count": null,
      "metadata": {
        "id": "3Z2ea5AS4P4j",
        "colab": {
          "base_uri": "https://localhost:8080/",
          "height": 447
        },
        "outputId": "ec5add1c-f7cb-4b2f-e55a-42685ee50d75"
      },
      "outputs": [
        {
          "output_type": "execute_result",
          "data": {
            "text/plain": [
              "<function matplotlib.pyplot.show(close=None, block=None)>"
            ]
          },
          "metadata": {},
          "execution_count": 36
        },
        {
          "output_type": "display_data",
          "data": {
            "text/plain": [
              "<Figure size 640x480 with 1 Axes>"
            ],
            "image/png": "[encoded data removed]"
          },
          "metadata": {}
        }
      ],
      "source": [
        "# put your code for 2 here\n",
        "\n",
        "import numpy as np\n",
        "import matplotlib.pyplot as plt\n",
        "\n",
        "sigma = [0.25, 0.5, 1, 2, 4]\n",
        "x = np.linspace(-8, 8, num=1000)\n",
        "\n",
        "def ugly_function(x, sigma):\n",
        "  y = (1/(sigma*np.sqrt(2*np.pi))) * np.exp(-(x**2)/(2*sigma**2))\n",
        "  return y\n",
        "\n",
        "# plot\n",
        "fig, ax = plt.subplots()\n",
        "\n",
        "# loop over sigma\n",
        "for sig in sigma:\n",
        "  ax.plot(x, ugly_function(x, sig), label= rf\"$\\sigma$ = {sig}\")\n",
        "\n",
        "plt.show"
      ]
    }
  ],
  "metadata": {
    "kernelspec": {
      "display_name": "climate_py39",
      "language": "python",
      "name": "python3"
    },
    "language_info": {
      "codemirror_mode": {
        "name": "ipython",
        "version": 3
      },
      "file_extension": ".py",
      "mimetype": "text/x-python",
      "name": "python",
      "nbconvert_exporter": "python",
      "pygments_lexer": "ipython3",
      "version": "3.9.16"
    },
    "orig_nbformat": 4,
    "colab": {
      "provenance": []
    }
  },
  "nbformat": 4,
  "nbformat_minor": 0
}