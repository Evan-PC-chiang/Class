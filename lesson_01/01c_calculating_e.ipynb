{
  "cells": [
    {
      "cell_type": "markdown",
      "metadata": {
        "id": "qk9JSDvaKfYe"
      },
      "source": [
        "<a target=\"_blank\" href=\"https://colab.research.google.com/github/taobrienlbl/advanced_earth_science_data_analysis/blob/spring_2023_iub/lessons/01_fundamentals/01c_calculating_e.ipynb\">\n",
        "  <img src=\"https://colab.research.google.com/assets/colab-badge.svg\" alt=\"Open In Colab\"/>\n",
        "</a>\n",
        "\n",
        "In this group exercise, you will mimic what we did with π: you will write code to calculate $e$ using the following series approximation (from [wikipedia](https://en.wikipedia.org/wiki/List_of_representations_of_e#As_an_infinite_series)):\n",
        "\n",
        "\n",
        "$$ e = \\sum\\limits_{k=0}^{\\infty} \\frac{1}{k!} $$\n",
        "\n",
        "where $k!$ represents 'k factorial': $k! = 1 \\cdot 2 \\cdot 3 \\cdot \\ldots \\cdot k$\n"
      ]
    },
    {
      "cell_type": "code",
      "execution_count": null,
      "metadata": {
        "id": "Q83_UN2CKfYg",
        "colab": {
          "base_uri": "https://localhost:8080/"
        },
        "outputId": "846bce7a-10de-44fe-9301-0c2fcc9d48ca"
      },
      "outputs": [
        {
          "output_type": "stream",
          "name": "stdout",
          "text": [
            "2.7182815255731922\n"
          ]
        }
      ],
      "source": [
        "# remove this line and add your code here and in cells below as applicable\n",
        "\n",
        "\n",
        "# initialize e\n",
        "e = 1\n",
        "\n",
        "plus = 1\n",
        "\n",
        "# loop times\n",
        "n = 10\n",
        "\n",
        "# store values\n",
        "e_list = []\n",
        "\n",
        "# iteration\n",
        "for i in range(1,n):\n",
        "  plus *= (1/i)\n",
        "  e += plus\n",
        "  e_list.append(e)\n",
        "\n",
        "print(e)\n"
      ]
    },
    {
      "cell_type": "code",
      "source": [
        "import math\n",
        "math.e"
      ],
      "metadata": {
        "colab": {
          "base_uri": "https://localhost:8080/"
        },
        "id": "kGGIwNVqL02F",
        "outputId": "2b37ed21-0bc8-44e3-8ac5-c287ed62d23d"
      },
      "execution_count": null,
      "outputs": [
        {
          "output_type": "execute_result",
          "data": {
            "text/plain": [
              "2.718281828459045"
            ]
          },
          "metadata": {},
          "execution_count": 8
        }
      ]
    },
    {
      "cell_type": "code",
      "source": [
        "import matplotlib.pyplot as plt\n",
        "import math\n",
        "\n",
        "plt.plot(e_list)\n",
        "plt.axhline(math.e, color = 'gray', linestyle = '--')\n",
        "plt.title('Exponatiol')\n",
        "\n",
        "\n",
        "plt.show()"
      ],
      "metadata": {
        "colab": {
          "base_uri": "https://localhost:8080/",
          "height": 452
        },
        "id": "JXGXdRtvL9RW",
        "outputId": "c654bf21-7beb-4141-9f6c-b4d07660e3f5"
      },
      "execution_count": null,
      "outputs": [
        {
          "output_type": "display_data",
          "data": {
            "text/plain": [
              "<Figure size 640x480 with 1 Axes>"
            ],
            "image/png": "[encoded data removed]"
          },
          "metadata": {}
        }
      ]
    }
  ],
  "metadata": {
    "kernelspec": {
      "display_name": "climate_py39",
      "language": "python",
      "name": "python3"
    },
    "language_info": {
      "codemirror_mode": {
        "name": "ipython",
        "version": 3
      },
      "file_extension": ".py",
      "mimetype": "text/x-python",
      "name": "python",
      "nbconvert_exporter": "python",
      "pygments_lexer": "ipython3",
      "version": "3.9.16"
    },
    "orig_nbformat": 4,
    "colab": {
      "provenance": []
    }
  },
  "nbformat": 4,
  "nbformat_minor": 0
}