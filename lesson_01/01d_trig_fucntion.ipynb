{
  "cells": [
    {
      "cell_type": "markdown",
      "metadata": {
        "id": "1tyLWNaeM5f7"
      },
      "source": [
        "<a target=\"_blank\" href=\"https://colab.research.google.com/github/taobrienlbl/advanced_earth_science_data_analysis/blob/spring_2023_iub/lessons/01_fundamentals/01d_trig_fucntion.ipynb\">\n",
        "  <img src=\"https://colab.research.google.com/assets/colab-badge.svg\" alt=\"Open In Colab\"/>\n",
        "</a>\n",
        "\n",
        "In this group exercise, you will complete the following:\n",
        "\n",
        "* Write the following functions:\n",
        "  * `exp(x)`\n",
        "  * `cos(x)`\n",
        "  * `sin(x)`\n",
        "  * `tan(x)`\n",
        "* Verify that the functions behave as expected\n",
        "\n",
        "There is a useful concept that we haven't touched on yet: complex numbers in Python.  You could, for example, define the imaginary number $i = \\sqrt{-1}$ in Python as `i = 1.0j`, where the `j` after the number indicates that the number is the imaginary part of a complex number."
      ]
    },
    {
      "cell_type": "code",
      "execution_count": null,
      "metadata": {
        "id": "vRs7jJq3M5f9"
      },
      "outputs": [],
      "source": [
        "\"\"\" exp(x) \"\"\"\n",
        "\n",
        "def exp(x):\n",
        "  # initialize e\n",
        "  e = 1\n",
        "\n",
        "  plus = 1\n",
        "\n",
        "  # loop times\n",
        "  n = 100\n",
        "\n",
        "  # iteration\n",
        "  for i in range(1,n):\n",
        "    plus *= (1/i)\n",
        "    e += plus\n",
        "\n",
        "  # fron e to exp(x)\n",
        "  x = e**x\n",
        "  return(x)\n",
        "\n"
      ]
    },
    {
      "cell_type": "code",
      "source": [
        "\"\"\" factoria \"\"\"\n",
        "\n",
        "def factorial(n):\n",
        "  # exception for 0!\n",
        "  if n == 0:\n",
        "      return 1\n",
        "      # multiply n times to get n!\n",
        "  return n * factorial(n - 1)"
      ],
      "metadata": {
        "id": "g0lkfZlqDpnk"
      },
      "execution_count": null,
      "outputs": []
    },
    {
      "cell_type": "markdown",
      "source": [
        "Define $\\pi$ for radius to degree"
      ],
      "metadata": {
        "id": "FbMsi1HKUPkF"
      }
    },
    {
      "cell_type": "code",
      "source": [
        "\"\"\" pi \"\"\"\n",
        "\n",
        "# initialize pi\n",
        "pi = 0\n",
        "\n",
        "# loop times\n",
        "n = 15000\n",
        "\n",
        "# store values\n",
        "pi_list = []\n",
        "\n",
        "# iteration\n",
        "for i in range(1,n):\n",
        "  plus = -4*(((-1)**i)*(1/(2*i-1)))\n",
        "  pi += plus\n",
        "\n",
        "print(pi)\n"
      ],
      "metadata": {
        "colab": {
          "base_uri": "https://localhost:8080/"
        },
        "id": "-zAAF7MdIypn",
        "outputId": "b5b98f34-192a-4b14-ef01-d673d3ffbdc6"
      },
      "execution_count": null,
      "outputs": [
        {
          "output_type": "stream",
          "name": "stdout",
          "text": [
            "3.1416593247011195\n"
          ]
        }
      ]
    },
    {
      "cell_type": "code",
      "source": [
        "\"\"\" cos (degree)\"\"\"\n",
        "\n",
        "# use Taylor series\n",
        "def cos(x):\n",
        "\n",
        "  # convert degree to radius (X*pi/180)\n",
        "  x = x * (pi/180)\n",
        "\n",
        "  # set up variables\n",
        "  result = 1.0\n",
        "  sign = -1.0\n",
        "  power = 2\n",
        "\n",
        "  # iter 20 times\n",
        "  for n in range(1, 20):\n",
        "      plus = sign * (x ** power) / factorial(power)\n",
        "      result += plus\n",
        "      sign *= -1.0\n",
        "      power += 2\n",
        "\n",
        "  return result"
      ],
      "metadata": {
        "id": "UvHnK9DPIbfG"
      },
      "execution_count": null,
      "outputs": []
    },
    {
      "cell_type": "code",
      "source": [
        "\"\"\" sin (degree) \"\"\"\n",
        "\n",
        "# use sin^2 + cos^2 = 1\n",
        "def sin(x):\n",
        "  result = (1 - cos(x)**2)**(1/2)\n",
        "  return result"
      ],
      "metadata": {
        "id": "jRtP9PgIKJVB"
      },
      "execution_count": null,
      "outputs": []
    },
    {
      "cell_type": "code",
      "source": [
        "\"\"\" tan (degree)\"\"\"\n",
        "\n",
        "# use tan=sin/cos\n",
        "def tan(x):\n",
        "  result = sin(x)/cos(x)\n",
        "  return result"
      ],
      "metadata": {
        "id": "maVNrh3FLKd0"
      },
      "execution_count": null,
      "outputs": []
    },
    {
      "cell_type": "code",
      "source": [
        "display(exp(2))\n",
        "display(sin(30))\n",
        "display(cos(60))\n",
        "display(tan(45))"
      ],
      "metadata": {
        "colab": {
          "base_uri": "https://localhost:8080/",
          "height": 85
        },
        "id": "6xSaWTw6ViN3",
        "outputId": "14c82cbd-5977-4309-a9e6-e7659146b013"
      },
      "execution_count": null,
      "outputs": [
        {
          "output_type": "display_data",
          "data": {
            "text/plain": [
              "7.389056098930652"
            ]
          },
          "metadata": {}
        },
        {
          "output_type": "display_data",
          "data": {
            "text/plain": [
              "0.5000096231151494"
            ]
          },
          "metadata": {}
        },
        {
          "output_type": "display_data",
          "data": {
            "text/plain": [
              "0.4999807535844927"
            ]
          },
          "metadata": {}
        },
        {
          "output_type": "display_data",
          "data": {
            "text/plain": [
              "1.000033336111305"
            ]
          },
          "metadata": {}
        }
      ]
    }
  ],
  "metadata": {
    "language_info": {
      "name": "python"
    },
    "orig_nbformat": 4,
    "colab": {
      "provenance": []
    },
    "kernelspec": {
      "name": "python3",
      "display_name": "Python 3"
    }
  },
  "nbformat": 4,
  "nbformat_minor": 0
}