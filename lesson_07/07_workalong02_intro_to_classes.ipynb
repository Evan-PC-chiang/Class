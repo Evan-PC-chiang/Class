{
  "cells": [
    {
      "cell_type": "markdown",
      "metadata": {
        "id": "xLeId2M8W5sQ"
      },
      "source": [
        "<a target=\"_blank\" href=\"https://colab.research.google.com/github/taobrienlbl/advanced_earth_science_data_analysis/blob/spring_2023_iub/lessons/07_machine_learning_intro/07_workalong02_intro_to_classes.ipynb\">\n",
        "  <img src=\"https://colab.research.google.com/assets/colab-badge.svg\" alt=\"Open In Colab\"/>\n",
        "</a>\n",
        "\n",
        "# Intro to *classes* in Python\n",
        "\n",
        "This notebook walks through some demonstrations of classes; it is accompanied by a bit of lecture."
      ]
    },
    {
      "cell_type": "code",
      "execution_count": 14,
      "metadata": {
        "id": "sKrMTEoFW5sS"
      },
      "outputs": [],
      "source": [
        "\"\"\" Define a class called Animal. \"\"\"\n",
        "\n",
        "class Animal():\n",
        "    \n",
        "    def __init__(self, limbs = 4, eyes = 2, tail = 1):\n",
        "        self.limbs = limbs\n",
        "        self.eyes = eyes\n",
        "        self.tail = tail\n",
        "\n",
        "    def speak(self):\n",
        "        print(\"Hello, I'm an animal.\")\n",
        "\n",
        "    def describe(self):\n",
        "        print(f\"I have {self.limbs} limbs, {self.eyes} eyes, and {self.tail} tail(s).\")\n"
      ]
    },
    {
      "cell_type": "code",
      "execution_count": 13,
      "metadata": {
        "id": "Ifv9B3dVW5sT"
      },
      "outputs": [
        {
          "name": "stdout",
          "output_type": "stream",
          "text": [
            "Hello, I'm a animal.\n"
          ]
        }
      ],
      "source": [
        "\"\"\" Create two animal objects.\"\"\"\n",
        "starfish = Animal(limbs= 5, eyes= 0, tail=0)\n",
        "\n",
        "starfish.speak()"
      ]
    },
    {
      "cell_type": "code",
      "execution_count": null,
      "metadata": {
        "id": "K_GTw3ATW5sT"
      },
      "outputs": [],
      "source": [
        "\"\"\" Call the methods of the animal objects. \"\"\"\n"
      ]
    },
    {
      "cell_type": "code",
      "execution_count": 22,
      "metadata": {
        "id": "jwKAUcMxW5sT"
      },
      "outputs": [],
      "source": [
        "\"\"\" Create a new class called Dog that inherits from Animal. \"\"\"\n",
        "\n",
        "class Dog(Animal):\n",
        "\n",
        "    def __init__(self, name, breed):\n",
        "        super().__init__(limbs = 4, eyes = 2, tail =1)\n",
        "        self.name = name\n",
        "        self.breed = breed\n",
        "\n",
        "    def speak(self):\n",
        "        print(f\"{self.name}: Woof!\")\n",
        "\n",
        "    def __repr__(self):\n",
        "        \"\"\" This is a function that is called when an object is printed\"\"\"\n",
        "        return f\"Dog(name = '{self.name}, breed = '{self.breed}')\"\n",
        "\n",
        "    "
      ]
    },
    {
      "cell_type": "code",
      "execution_count": 24,
      "metadata": {
        "id": "sQEV5rBqW5sT"
      },
      "outputs": [
        {
          "data": {
            "text/plain": [
              "Dog(name = 'Gabby, breed = 'corgi')"
            ]
          },
          "execution_count": 24,
          "metadata": {},
          "output_type": "execute_result"
        }
      ],
      "source": [
        "gabby = Dog(\"Gabby\", \"corgi\")\n",
        "gabby"
      ]
    },
    {
      "cell_type": "markdown",
      "metadata": {},
      "source": [
        "$$ ax^2 + bx + c $$"
      ]
    },
    {
      "cell_type": "code",
      "execution_count": 26,
      "metadata": {
        "id": "bY_hSYnOW5sT"
      },
      "outputs": [],
      "source": [
        "\"\"\" Now create a new quadratic class that has a 'gradient' method. \"\"\"\n",
        "\n",
        "class Quadratic:\n",
        "\n",
        "    def __init__(self, a, b, c):\n",
        "        \"\"\" This is the constructor: it is called when a new object of type 'Quadratic' is created \"\"\"\n",
        "        self.a = a\n",
        "        self.b = b\n",
        "        self.c = c\n",
        "\n",
        "    def gradient(self, x):\n",
        "        \"\"\" Calculate the gradient of the quadratic at a given point. \"\"\"\n",
        "        return 2*self.a*x + self.b\n",
        "\n",
        "    def evaluate(self, x):\n",
        "        \"\"\" This method evaluates the polynomial \"\"\"\n",
        "        return self.a*x^2 + self.b*x + self.c\n",
        "\n",
        "    def __repr__(self):\n",
        "        \"\"\" Print the quadratic \"\"\"\n",
        "        return f\" {self.a}X^2 + {self.b}x + {self.c}\"\n",
        "\n",
        "    def __call__(self, x):\n",
        "        \"\"\" Evaluate the quadratic \"\"\"\n",
        "        return "
      ]
    },
    {
      "cell_type": "code",
      "execution_count": null,
      "metadata": {
        "id": "awN3fxhoW5sU"
      },
      "outputs": [],
      "source": [
        "\"\"\" Test the quadratic class.\"\"\""
      ]
    },
    {
      "cell_type": "code",
      "execution_count": null,
      "metadata": {
        "id": "XGlDmH_tW5sU"
      },
      "outputs": [],
      "source": []
    },
    {
      "cell_type": "code",
      "execution_count": null,
      "metadata": {
        "id": "bLreZtntW5sU"
      },
      "outputs": [],
      "source": []
    }
  ],
  "metadata": {
    "colab": {
      "provenance": []
    },
    "kernelspec": {
      "display_name": "easg690",
      "language": "python",
      "name": "python3"
    },
    "language_info": {
      "codemirror_mode": {
        "name": "ipython",
        "version": 3
      },
      "file_extension": ".py",
      "mimetype": "text/x-python",
      "name": "python",
      "nbconvert_exporter": "python",
      "pygments_lexer": "ipython3",
      "version": "3.10.12"
    }
  },
  "nbformat": 4,
  "nbformat_minor": 0
}
