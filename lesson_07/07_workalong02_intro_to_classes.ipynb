{
  "cells": [
    {
      "cell_type": "markdown",
      "metadata": {
        "id": "xLeId2M8W5sQ"
      },
      "source": [
        "<a target=\"_blank\" href=\"https://colab.research.google.com/github/taobrienlbl/advanced_earth_science_data_analysis/blob/spring_2023_iub/lessons/07_machine_learning_intro/07_workalong02_intro_to_classes.ipynb\">\n",
        "  <img src=\"https://colab.research.google.com/assets/colab-badge.svg\" alt=\"Open In Colab\"/>\n",
        "</a>\n",
        "\n",
        "# Intro to *classes* in Python\n",
        "\n",
        "This notebook walks through some demonstrations of classes; it is accompanied by a bit of lecture."
      ]
    },
    {
      "cell_type": "code",
      "execution_count": null,
      "metadata": {
        "id": "sKrMTEoFW5sS"
      },
      "outputs": [],
      "source": [
        "\"\"\" Define a class called Animal. \"\"\"\n",
        "\n",
        "class Animal():\n",
        "    \n",
        "    def __init__(self, limbs = 4, eyes = 2, tail = 1):\n",
        "        self.limbs = limbs\n",
        "        self.eyes = eyes\n",
        "        self.tail = tail\n",
        "\n",
        "    def speak(self):\n",
        "        print(\"Hello, I'm a animal.\")\n",
        "\n",
        "    def describe(self):\n",
        "        print(f\"I have {self.limbs} limbs, {self.eyes} eyes, and {self.tail} tail(s).\")\n"
      ]
    },
    {
      "cell_type": "code",
      "execution_count": null,
      "metadata": {
        "id": "Ifv9B3dVW5sT"
      },
      "outputs": [],
      "source": [
        "\"\"\" Create two animal objects.\"\"\"\n"
      ]
    },
    {
      "cell_type": "code",
      "execution_count": null,
      "metadata": {
        "id": "K_GTw3ATW5sT"
      },
      "outputs": [],
      "source": [
        "\"\"\" Call the methods of the animal objects. \"\"\"\n"
      ]
    },
    {
      "cell_type": "code",
      "execution_count": null,
      "metadata": {
        "id": "jwKAUcMxW5sT"
      },
      "outputs": [],
      "source": [
        "\"\"\" Create a new class called Dog that inherits from Animal. \"\"\"\n",
        "\n"
      ]
    },
    {
      "cell_type": "code",
      "execution_count": null,
      "metadata": {
        "id": "sQEV5rBqW5sT"
      },
      "outputs": [],
      "source": []
    },
    {
      "cell_type": "code",
      "execution_count": null,
      "metadata": {
        "id": "bY_hSYnOW5sT"
      },
      "outputs": [],
      "source": [
        "\"\"\" Now create a new quadratic class that has a 'gradient' method. \"\"\"\n",
        "\n",
        "class Quadratic:\n",
        "\n",
        "    def __init__(self, a, b, c):\n",
        "        \"\"\" This is the constructor: it is called when a new object of type 'Quadratic' is created \"\"\"\n",
        "        pass\n",
        "\n",
        "    def gradient(self, x):\n",
        "        \"\"\" Calculate the gradient of the quadratic at a given point. \"\"\"\n",
        "        pass\n",
        "\n",
        "    def evaluate(self, x):\n",
        "        \"\"\" This method evaluates the polynomial \"\"\"\n",
        "        pass\n",
        "\n",
        "    def __repr__(self):\n",
        "        \"\"\" Print the quadratic \"\"\"\n",
        "        pass\n",
        "\n",
        "    def __eval__(self, x):\n",
        "        \"\"\" Evaluate the quadratic \"\"\"\n",
        "        pass"
      ]
    },
    {
      "cell_type": "code",
      "execution_count": null,
      "metadata": {
        "id": "awN3fxhoW5sU"
      },
      "outputs": [],
      "source": [
        "\"\"\" Test the quadratic class.\"\"\""
      ]
    },
    {
      "cell_type": "code",
      "execution_count": null,
      "metadata": {
        "id": "XGlDmH_tW5sU"
      },
      "outputs": [],
      "source": []
    },
    {
      "cell_type": "code",
      "execution_count": null,
      "metadata": {
        "id": "bLreZtntW5sU"
      },
      "outputs": [],
      "source": []
    }
  ],
  "metadata": {
    "colab": {
      "provenance": []
    },
    "kernelspec": {
      "display_name": "easg690",
      "language": "python",
      "name": "python3"
    },
    "language_info": {
      "codemirror_mode": {
        "name": "ipython",
        "version": 3
      },
      "file_extension": ".py",
      "mimetype": "text/x-python",
      "name": "python",
      "nbconvert_exporter": "python",
      "pygments_lexer": "ipython3",
      "version": "3.10.12"
    }
  },
  "nbformat": 4,
  "nbformat_minor": 0
}
