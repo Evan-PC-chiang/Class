{
 "cells": [
  {
   "cell_type": "markdown",
   "id": "cb736091",
   "metadata": {},
   "source": [
    "# 7-1\n",
    "\n",
    "It discribes hows your array looks like. First element is the number of rows, second element is the number of columns."
   ]
  },
  {
   "cell_type": "markdown",
   "id": "ab94e73f",
   "metadata": {},
   "source": [
    "# 7-2\n"
   ]
  },
  {
   "cell_type": "code",
   "execution_count": 2,
   "id": "1e3f57d0",
   "metadata": {},
   "outputs": [
    {
     "data": {
      "text/plain": [
       "(3, 4)"
      ]
     },
     "execution_count": 2,
     "metadata": {},
     "output_type": "execute_result"
    }
   ],
   "source": [
    "import numpy as np\n",
    "\n",
    "ppm = np.array([[20.80, 20.71, 21.72, 18.81],\n",
    "                [19.91, 18.42, 20.73, 20.32],\n",
    "                [17.32, 21.74, 23.19, 19.98]])\n",
    "\n",
    "np.shape(ppm)"
   ]
  },
  {
   "cell_type": "markdown",
   "id": "d3ee953d",
   "metadata": {},
   "source": [
    "# 7-3"
   ]
  },
  {
   "cell_type": "code",
   "execution_count": 6,
   "id": "a5814b82",
   "metadata": {},
   "outputs": [
    {
     "data": {
      "text/plain": [
       "array([[0, 0],\n",
       "       [0, 0],\n",
       "       [0, 0]])"
      ]
     },
     "execution_count": 6,
     "metadata": {},
     "output_type": "execute_result"
    }
   ],
   "source": [
    "np.zeros((3,2), dtype='int')"
   ]
  },
  {
   "cell_type": "markdown",
   "id": "9e074eac",
   "metadata": {},
   "source": [
    "# 7-4"
   ]
  },
  {
   "cell_type": "code",
   "execution_count": 19,
   "id": "5cd3c2be",
   "metadata": {},
   "outputs": [
    {
     "data": {
      "text/plain": [
       "array([[1., 2., 3., 4.],\n",
       "       [5., 6., 7., 8.]])"
      ]
     },
     "execution_count": 19,
     "metadata": {},
     "output_type": "execute_result"
    }
   ],
   "source": [
    "nums = np.linspace(1,8,8)\n",
    "factors = np.reshape(nums,(2,4))\n",
    "factors"
   ]
  },
  {
   "cell_type": "markdown",
   "id": "1fc2783b",
   "metadata": {},
   "source": [
    "# 7-5"
   ]
  },
  {
   "cell_type": "code",
   "execution_count": 17,
   "id": "b83efe19",
   "metadata": {},
   "outputs": [
    {
     "data": {
      "text/plain": [
       "array([[7, 7, 7, 7, 7],\n",
       "       [7, 7, 7, 7, 7],\n",
       "       [7, 7, 7, 7, 7]])"
      ]
     },
     "execution_count": 17,
     "metadata": {},
     "output_type": "execute_result"
    }
   ],
   "source": [
    "7*np.ones((3,5), dtype='int')"
   ]
  },
  {
   "cell_type": "markdown",
   "id": "26aef176",
   "metadata": {},
   "source": [
    "# 7-6"
   ]
  },
  {
   "cell_type": "code",
   "execution_count": 20,
   "id": "96abfdf1",
   "metadata": {},
   "outputs": [],
   "source": [
    "# 1\n",
    "value = factors[1,2]\n",
    "\n",
    "#2\n",
    "first_row = factors[0,:]\n",
    "\n",
    "#3\n",
    "subset = factors[:,1:3]\n",
    "\n",
    "#4\n",
    "factors[0,0:3] = factors[1,1:]"
   ]
  },
  {
   "cell_type": "markdown",
   "id": "c63b80e6",
   "metadata": {},
   "source": [
    "# 7-7"
   ]
  },
  {
   "cell_type": "code",
   "execution_count": 22,
   "id": "b5f1d043",
   "metadata": {},
   "outputs": [
    {
     "data": {
      "text/plain": [
       "array([[20800., 20710., 21720., 18810.],\n",
       "       [19910., 18420., 20730., 20320.],\n",
       "       [17320., 21740., 23190., 19980.]])"
      ]
     },
     "execution_count": 22,
     "metadata": {},
     "output_type": "execute_result"
    }
   ],
   "source": [
    "ppb = ppm*1000\n",
    "ppb"
   ]
  },
  {
   "cell_type": "markdown",
   "id": "8289c0c5",
   "metadata": {},
   "source": [
    "# 7-8 "
   ]
  },
  {
   "cell_type": "code",
   "execution_count": 26,
   "id": "d01159af",
   "metadata": {},
   "outputs": [
    {
     "data": {
      "text/plain": [
       "array([[0.44859207, 0.46777838, 0.92918336, 0.36323569, 0.32304264],\n",
       "       [0.31391206, 0.50190538, 0.49535179, 0.31793112, 0.70898523],\n",
       "       [0.67713916, 0.26931878, 0.41696908, 0.50738217, 0.63780926]])"
      ]
     },
     "execution_count": 26,
     "metadata": {},
     "output_type": "execute_result"
    }
   ],
   "source": [
    "data1 = np.random.rand(3,5)\n",
    "data2 = np.random.rand(3,5)\n",
    "\n",
    "avg_between_both = (data1+data2)/2\n",
    "avg_between_both"
   ]
  },
  {
   "cell_type": "markdown",
   "id": "199aa92a",
   "metadata": {},
   "source": [
    "# 7-9"
   ]
  },
  {
   "cell_type": "code",
   "execution_count": 28,
   "id": "956429db",
   "metadata": {},
   "outputs": [
    {
     "data": {
      "text/plain": [
       "array([[0.23812152, 0.08001145, 0.83962176, 0.61982349, 0.95028356],\n",
       "       [0.08508011, 0.87307514, 0.27953458, 0.30292454, 0.80834799],\n",
       "       [0.31201757, 0.66256985, 0.40140059, 0.19532345, 0.29174166]])"
      ]
     },
     "execution_count": 28,
     "metadata": {},
     "output_type": "execute_result"
    }
   ],
   "source": [
    "data3 = np.random.rand(3,5)\n",
    "data3"
   ]
  },
  {
   "cell_type": "code",
   "execution_count": 29,
   "id": "c9902db2",
   "metadata": {},
   "outputs": [
    {
     "data": {
      "text/plain": [
       "0.9502835597917367"
      ]
     },
     "execution_count": 29,
     "metadata": {},
     "output_type": "execute_result"
    }
   ],
   "source": [
    "max_data3 = np.max(data3)\n",
    "max_data3"
   ]
  },
  {
   "cell_type": "code",
   "execution_count": null,
   "id": "b6829754",
   "metadata": {},
   "outputs": [],
   "source": []
  }
 ],
 "metadata": {
  "kernelspec": {
   "display_name": "Python 3 (ipykernel)",
   "language": "python",
   "name": "python3"
  },
  "language_info": {
   "codemirror_mode": {
    "name": "ipython",
    "version": 3
   },
   "file_extension": ".py",
   "mimetype": "text/x-python",
   "name": "python",
   "nbconvert_exporter": "python",
   "pygments_lexer": "ipython3",
   "version": "3.11.4"
  }
 },
 "nbformat": 4,
 "nbformat_minor": 5
}
