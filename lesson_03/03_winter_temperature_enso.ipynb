{
 "cells": [
  {
   "cell_type": "markdown",
   "metadata": {},
   "source": [
    "<a target=\"_blank\" href=\"https://colab.research.google.com/github/taobrienlbl/advanced_earth_science_data_analysis/blob/spring_2023_iub/lessons/03_data_science_modules/03_winter_temperature_enso.ipynb\">\n",
    "  <img src=\"https://colab.research.google.com/assets/colab-badge.svg\" alt=\"Open In Colab\"/>\n",
    "</a>\n",
    "\n",
    "This notebook examines the relationship between winter minimum temperatures in southern central IN and El Nino.\n",
    "\n",
    "**Goal:** examine the relationship between El Nino and minimum winter (Dec-Jan-Feb) temperatures in Bloomington, IN\n",
    "\n",
    "**Method:**\n",
    "\n",
    " * obtain minimum temperature data from [NOAA NClimDiv](https://www.ncei.noaa.gov/access/metadata/landing-page/bin/iso?id=gov.noaa.ncdc:C00005), using the *NCEI Direct Download* method\n",
    " * read the dataset using `pandas`, filter out data for southern central Indiana\n",
    " * convert the data to timeseries format\n",
    " * obtain the [ENSO longitude index](https://cascade.lbl.gov/enso-longitude-index-eli/) Excel file and read with `pandas`; convert to timeseries format\n",
    " * make the ENSO and NClimDiv timeseries align (same start and end dates, same period - DJF, etc)\n",
    " * plot both timeseries\n",
    " * plot a scatter plot\n",
    " * do linear regression and correlation analyses\n",
    "\n",
    "For this solution notebook, I will be using data directly from NOAA instead of downloading it, since `pandas` has the ability to open data from a URL.\n",
    "\n",
    "# Part 1: Getting the NClimDiv data\n",
    "\n",
    "**Important:** Download this notebook and place it in your course folder, running it in Visual Studio Code (not Google Colab).  You'll commit this to your git repository at the end."
   ]
  },
  {
   "cell_type": "code",
   "execution_count": 2,
   "metadata": {},
   "outputs": [],
   "source": [
    "\"\"\" Import libraries \"\"\"\n",
    "import numpy as np\n",
    "import matplotlib.pyplot as plt\n",
    "import scipy\n",
    "import pandas as pd"
   ]
  },
  {
   "cell_type": "code",
   "execution_count": 6,
   "metadata": {},
   "outputs": [
    {
     "data": {
      "text/html": [
       "<div>\n",
       "<style scoped>\n",
       "    .dataframe tbody tr th:only-of-type {\n",
       "        vertical-align: middle;\n",
       "    }\n",
       "\n",
       "    .dataframe tbody tr th {\n",
       "        vertical-align: top;\n",
       "    }\n",
       "\n",
       "    .dataframe thead th {\n",
       "        text-align: right;\n",
       "    }\n",
       "</style>\n",
       "<table border=\"1\" class=\"dataframe\">\n",
       "  <thead>\n",
       "    <tr style=\"text-align: right;\">\n",
       "      <th></th>\n",
       "      <th>code</th>\n",
       "      <th>1</th>\n",
       "      <th>2</th>\n",
       "      <th>3</th>\n",
       "      <th>4</th>\n",
       "      <th>5</th>\n",
       "      <th>6</th>\n",
       "      <th>7</th>\n",
       "      <th>8</th>\n",
       "      <th>9</th>\n",
       "      <th>10</th>\n",
       "      <th>11</th>\n",
       "      <th>12</th>\n",
       "    </tr>\n",
       "  </thead>\n",
       "  <tbody>\n",
       "    <tr>\n",
       "      <th>0</th>\n",
       "      <td>101281895</td>\n",
       "      <td>27.5</td>\n",
       "      <td>21.8</td>\n",
       "      <td>37.4</td>\n",
       "      <td>47.8</td>\n",
       "      <td>54.7</td>\n",
       "      <td>63.5</td>\n",
       "      <td>66.5</td>\n",
       "      <td>65.9</td>\n",
       "      <td>63.1</td>\n",
       "      <td>37.9</td>\n",
       "      <td>37.4</td>\n",
       "      <td>30.6</td>\n",
       "    </tr>\n",
       "    <tr>\n",
       "      <th>1</th>\n",
       "      <td>101281896</td>\n",
       "      <td>30.3</td>\n",
       "      <td>32.6</td>\n",
       "      <td>36.6</td>\n",
       "      <td>52.2</td>\n",
       "      <td>61.1</td>\n",
       "      <td>63.6</td>\n",
       "      <td>68.7</td>\n",
       "      <td>67.1</td>\n",
       "      <td>57.2</td>\n",
       "      <td>44.8</td>\n",
       "      <td>40.1</td>\n",
       "      <td>31.2</td>\n",
       "    </tr>\n",
       "    <tr>\n",
       "      <th>2</th>\n",
       "      <td>101281897</td>\n",
       "      <td>26.8</td>\n",
       "      <td>37.4</td>\n",
       "      <td>45.1</td>\n",
       "      <td>47.0</td>\n",
       "      <td>52.4</td>\n",
       "      <td>64.7</td>\n",
       "      <td>68.0</td>\n",
       "      <td>65.2</td>\n",
       "      <td>59.0</td>\n",
       "      <td>48.8</td>\n",
       "      <td>36.5</td>\n",
       "      <td>32.9</td>\n",
       "    </tr>\n",
       "    <tr>\n",
       "      <th>3</th>\n",
       "      <td>101281898</td>\n",
       "      <td>34.7</td>\n",
       "      <td>31.0</td>\n",
       "      <td>45.1</td>\n",
       "      <td>42.7</td>\n",
       "      <td>57.4</td>\n",
       "      <td>66.0</td>\n",
       "      <td>68.5</td>\n",
       "      <td>67.1</td>\n",
       "      <td>63.0</td>\n",
       "      <td>47.0</td>\n",
       "      <td>34.5</td>\n",
       "      <td>28.0</td>\n",
       "    </tr>\n",
       "    <tr>\n",
       "      <th>4</th>\n",
       "      <td>101281899</td>\n",
       "      <td>28.8</td>\n",
       "      <td>22.2</td>\n",
       "      <td>38.8</td>\n",
       "      <td>47.8</td>\n",
       "      <td>61.2</td>\n",
       "      <td>65.1</td>\n",
       "      <td>66.9</td>\n",
       "      <td>68.3</td>\n",
       "      <td>56.8</td>\n",
       "      <td>50.7</td>\n",
       "      <td>40.3</td>\n",
       "      <td>28.9</td>\n",
       "    </tr>\n",
       "    <tr>\n",
       "      <th>...</th>\n",
       "      <td>...</td>\n",
       "      <td>...</td>\n",
       "      <td>...</td>\n",
       "      <td>...</td>\n",
       "      <td>...</td>\n",
       "      <td>...</td>\n",
       "      <td>...</td>\n",
       "      <td>...</td>\n",
       "      <td>...</td>\n",
       "      <td>...</td>\n",
       "      <td>...</td>\n",
       "      <td>...</td>\n",
       "      <td>...</td>\n",
       "    </tr>\n",
       "    <tr>\n",
       "      <th>45658</th>\n",
       "      <td>5013282019</td>\n",
       "      <td>28.7</td>\n",
       "      <td>32.9</td>\n",
       "      <td>29.9</td>\n",
       "      <td>32.3</td>\n",
       "      <td>36.6</td>\n",
       "      <td>43.9</td>\n",
       "      <td>48.0</td>\n",
       "      <td>50.4</td>\n",
       "      <td>46.3</td>\n",
       "      <td>38.4</td>\n",
       "      <td>34.1</td>\n",
       "      <td>27.0</td>\n",
       "    </tr>\n",
       "    <tr>\n",
       "      <th>45659</th>\n",
       "      <td>5013282020</td>\n",
       "      <td>18.5</td>\n",
       "      <td>26.0</td>\n",
       "      <td>27.3</td>\n",
       "      <td>33.0</td>\n",
       "      <td>36.9</td>\n",
       "      <td>42.7</td>\n",
       "      <td>47.5</td>\n",
       "      <td>47.3</td>\n",
       "      <td>42.3</td>\n",
       "      <td>37.5</td>\n",
       "      <td>31.6</td>\n",
       "      <td>25.1</td>\n",
       "    </tr>\n",
       "    <tr>\n",
       "      <th>45660</th>\n",
       "      <td>5013282021</td>\n",
       "      <td>24.3</td>\n",
       "      <td>30.1</td>\n",
       "      <td>26.8</td>\n",
       "      <td>31.6</td>\n",
       "      <td>36.5</td>\n",
       "      <td>42.2</td>\n",
       "      <td>46.3</td>\n",
       "      <td>47.6</td>\n",
       "      <td>43.3</td>\n",
       "      <td>36.0</td>\n",
       "      <td>25.3</td>\n",
       "      <td>31.1</td>\n",
       "    </tr>\n",
       "    <tr>\n",
       "      <th>45661</th>\n",
       "      <td>5013282022</td>\n",
       "      <td>24.2</td>\n",
       "      <td>28.6</td>\n",
       "      <td>26.3</td>\n",
       "      <td>30.4</td>\n",
       "      <td>34.3</td>\n",
       "      <td>42.1</td>\n",
       "      <td>45.3</td>\n",
       "      <td>46.9</td>\n",
       "      <td>44.2</td>\n",
       "      <td>37.3</td>\n",
       "      <td>33.3</td>\n",
       "      <td>29.4</td>\n",
       "    </tr>\n",
       "    <tr>\n",
       "      <th>45662</th>\n",
       "      <td>5013282023</td>\n",
       "      <td>23.7</td>\n",
       "      <td>26.3</td>\n",
       "      <td>29.1</td>\n",
       "      <td>29.5</td>\n",
       "      <td>34.5</td>\n",
       "      <td>41.8</td>\n",
       "      <td>47.1</td>\n",
       "      <td>48.1</td>\n",
       "      <td>NaN</td>\n",
       "      <td>NaN</td>\n",
       "      <td>NaN</td>\n",
       "      <td>NaN</td>\n",
       "    </tr>\n",
       "  </tbody>\n",
       "</table>\n",
       "<p>45663 rows × 13 columns</p>\n",
       "</div>"
      ],
      "text/plain": [
       "             code     1     2     3     4     5     6     7     8     9    10  \\\n",
       "0       101281895  27.5  21.8  37.4  47.8  54.7  63.5  66.5  65.9  63.1  37.9   \n",
       "1       101281896  30.3  32.6  36.6  52.2  61.1  63.6  68.7  67.1  57.2  44.8   \n",
       "2       101281897  26.8  37.4  45.1  47.0  52.4  64.7  68.0  65.2  59.0  48.8   \n",
       "3       101281898  34.7  31.0  45.1  42.7  57.4  66.0  68.5  67.1  63.0  47.0   \n",
       "4       101281899  28.8  22.2  38.8  47.8  61.2  65.1  66.9  68.3  56.8  50.7   \n",
       "...           ...   ...   ...   ...   ...   ...   ...   ...   ...   ...   ...   \n",
       "45658  5013282019  28.7  32.9  29.9  32.3  36.6  43.9  48.0  50.4  46.3  38.4   \n",
       "45659  5013282020  18.5  26.0  27.3  33.0  36.9  42.7  47.5  47.3  42.3  37.5   \n",
       "45660  5013282021  24.3  30.1  26.8  31.6  36.5  42.2  46.3  47.6  43.3  36.0   \n",
       "45661  5013282022  24.2  28.6  26.3  30.4  34.3  42.1  45.3  46.9  44.2  37.3   \n",
       "45662  5013282023  23.7  26.3  29.1  29.5  34.5  41.8  47.1  48.1   NaN   NaN   \n",
       "\n",
       "         11    12  \n",
       "0      37.4  30.6  \n",
       "1      40.1  31.2  \n",
       "2      36.5  32.9  \n",
       "3      34.5  28.0  \n",
       "4      40.3  28.9  \n",
       "...     ...   ...  \n",
       "45658  34.1  27.0  \n",
       "45659  31.6  25.1  \n",
       "45660  25.3  31.1  \n",
       "45661  33.3  29.4  \n",
       "45662   NaN   NaN  \n",
       "\n",
       "[45663 rows x 13 columns]"
      ]
     },
     "execution_count": 6,
     "metadata": {},
     "output_type": "execute_result"
    }
   ],
   "source": [
    "\"\"\" Read the tmin data file. \"\"\"\n",
    "#filename = r\"C:\\Users\\travi\\Insync\\obrienta@iu.edu\\Google Drive - Shared drives\\[Sec-E] BL-EAS-obrienta\\teaching\\2023 Grad Python Course\\lessons\\03_data_science_modules\\climdiv-tmindv-v1.0.0-20230804\"\n",
    "file_url = \"https://www.ncei.noaa.gov/pub/data/cirs/climdiv/climdiv-tmindv-v1.0.0-20230907\"\n",
    "\n",
    "# set the header manually\n",
    "header = [\"code\"]\n",
    "header = header + list(range(1,13))\n",
    "\n",
    "# read in the data file, \n",
    "climdiv_df = pd.read_csv(file_url, header = None, names = header, delimiter = \"\\s+\", na_values = -99.9)\n",
    "climdiv_df"
   ]
  },
  {
   "cell_type": "code",
   "execution_count": 7,
   "metadata": {},
   "outputs": [
    {
     "data": {
      "text/html": [
       "<div>\n",
       "<style scoped>\n",
       "    .dataframe tbody tr th:only-of-type {\n",
       "        vertical-align: middle;\n",
       "    }\n",
       "\n",
       "    .dataframe tbody tr th {\n",
       "        vertical-align: top;\n",
       "    }\n",
       "\n",
       "    .dataframe thead th {\n",
       "        text-align: right;\n",
       "    }\n",
       "</style>\n",
       "<table border=\"1\" class=\"dataframe\">\n",
       "  <thead>\n",
       "    <tr style=\"text-align: right;\">\n",
       "      <th></th>\n",
       "      <th>code</th>\n",
       "      <th>1</th>\n",
       "      <th>2</th>\n",
       "      <th>3</th>\n",
       "      <th>4</th>\n",
       "      <th>5</th>\n",
       "      <th>6</th>\n",
       "      <th>7</th>\n",
       "      <th>8</th>\n",
       "      <th>9</th>\n",
       "      <th>10</th>\n",
       "      <th>11</th>\n",
       "      <th>12</th>\n",
       "    </tr>\n",
       "  </thead>\n",
       "  <tbody>\n",
       "    <tr>\n",
       "      <th>10707</th>\n",
       "      <td>1208281895</td>\n",
       "      <td>14.5</td>\n",
       "      <td>11.1</td>\n",
       "      <td>28.5</td>\n",
       "      <td>42.8</td>\n",
       "      <td>50.1</td>\n",
       "      <td>61.6</td>\n",
       "      <td>61.8</td>\n",
       "      <td>62.1</td>\n",
       "      <td>56.9</td>\n",
       "      <td>33.6</td>\n",
       "      <td>31.6</td>\n",
       "      <td>25.8</td>\n",
       "    </tr>\n",
       "    <tr>\n",
       "      <th>10708</th>\n",
       "      <td>1208281896</td>\n",
       "      <td>22.8</td>\n",
       "      <td>23.5</td>\n",
       "      <td>26.5</td>\n",
       "      <td>47.8</td>\n",
       "      <td>56.6</td>\n",
       "      <td>59.7</td>\n",
       "      <td>64.9</td>\n",
       "      <td>62.1</td>\n",
       "      <td>52.8</td>\n",
       "      <td>37.7</td>\n",
       "      <td>34.4</td>\n",
       "      <td>27.0</td>\n",
       "    </tr>\n",
       "    <tr>\n",
       "      <th>10709</th>\n",
       "      <td>1208281897</td>\n",
       "      <td>17.8</td>\n",
       "      <td>25.4</td>\n",
       "      <td>33.3</td>\n",
       "      <td>40.8</td>\n",
       "      <td>45.1</td>\n",
       "      <td>58.4</td>\n",
       "      <td>65.6</td>\n",
       "      <td>60.3</td>\n",
       "      <td>53.6</td>\n",
       "      <td>45.3</td>\n",
       "      <td>32.6</td>\n",
       "      <td>25.8</td>\n",
       "    </tr>\n",
       "    <tr>\n",
       "      <th>10710</th>\n",
       "      <td>1208281898</td>\n",
       "      <td>26.0</td>\n",
       "      <td>23.8</td>\n",
       "      <td>36.2</td>\n",
       "      <td>38.8</td>\n",
       "      <td>53.1</td>\n",
       "      <td>61.5</td>\n",
       "      <td>64.9</td>\n",
       "      <td>63.9</td>\n",
       "      <td>58.8</td>\n",
       "      <td>45.0</td>\n",
       "      <td>28.8</td>\n",
       "      <td>20.6</td>\n",
       "    </tr>\n",
       "    <tr>\n",
       "      <th>10711</th>\n",
       "      <td>1208281899</td>\n",
       "      <td>20.7</td>\n",
       "      <td>12.7</td>\n",
       "      <td>29.4</td>\n",
       "      <td>43.9</td>\n",
       "      <td>55.1</td>\n",
       "      <td>62.8</td>\n",
       "      <td>63.0</td>\n",
       "      <td>64.4</td>\n",
       "      <td>53.1</td>\n",
       "      <td>46.5</td>\n",
       "      <td>36.1</td>\n",
       "      <td>21.4</td>\n",
       "    </tr>\n",
       "    <tr>\n",
       "      <th>...</th>\n",
       "      <td>...</td>\n",
       "      <td>...</td>\n",
       "      <td>...</td>\n",
       "      <td>...</td>\n",
       "      <td>...</td>\n",
       "      <td>...</td>\n",
       "      <td>...</td>\n",
       "      <td>...</td>\n",
       "      <td>...</td>\n",
       "      <td>...</td>\n",
       "      <td>...</td>\n",
       "      <td>...</td>\n",
       "      <td>...</td>\n",
       "    </tr>\n",
       "    <tr>\n",
       "      <th>10831</th>\n",
       "      <td>1208282019</td>\n",
       "      <td>22.8</td>\n",
       "      <td>27.4</td>\n",
       "      <td>29.6</td>\n",
       "      <td>42.8</td>\n",
       "      <td>55.4</td>\n",
       "      <td>60.0</td>\n",
       "      <td>65.6</td>\n",
       "      <td>62.3</td>\n",
       "      <td>59.6</td>\n",
       "      <td>44.9</td>\n",
       "      <td>28.0</td>\n",
       "      <td>29.4</td>\n",
       "    </tr>\n",
       "    <tr>\n",
       "      <th>10832</th>\n",
       "      <td>1208282020</td>\n",
       "      <td>29.3</td>\n",
       "      <td>27.6</td>\n",
       "      <td>38.2</td>\n",
       "      <td>39.1</td>\n",
       "      <td>50.2</td>\n",
       "      <td>60.3</td>\n",
       "      <td>66.3</td>\n",
       "      <td>62.1</td>\n",
       "      <td>54.3</td>\n",
       "      <td>43.4</td>\n",
       "      <td>36.4</td>\n",
       "      <td>26.4</td>\n",
       "    </tr>\n",
       "    <tr>\n",
       "      <th>10833</th>\n",
       "      <td>1208282021</td>\n",
       "      <td>25.4</td>\n",
       "      <td>19.6</td>\n",
       "      <td>35.6</td>\n",
       "      <td>41.0</td>\n",
       "      <td>49.0</td>\n",
       "      <td>62.2</td>\n",
       "      <td>64.7</td>\n",
       "      <td>65.0</td>\n",
       "      <td>57.2</td>\n",
       "      <td>51.3</td>\n",
       "      <td>29.4</td>\n",
       "      <td>33.3</td>\n",
       "    </tr>\n",
       "    <tr>\n",
       "      <th>10834</th>\n",
       "      <td>1208282022</td>\n",
       "      <td>17.4</td>\n",
       "      <td>22.9</td>\n",
       "      <td>33.9</td>\n",
       "      <td>40.5</td>\n",
       "      <td>54.6</td>\n",
       "      <td>59.8</td>\n",
       "      <td>66.2</td>\n",
       "      <td>63.2</td>\n",
       "      <td>55.3</td>\n",
       "      <td>39.5</td>\n",
       "      <td>33.1</td>\n",
       "      <td>25.9</td>\n",
       "    </tr>\n",
       "    <tr>\n",
       "      <th>10835</th>\n",
       "      <td>1208282023</td>\n",
       "      <td>31.0</td>\n",
       "      <td>30.2</td>\n",
       "      <td>32.6</td>\n",
       "      <td>40.7</td>\n",
       "      <td>50.7</td>\n",
       "      <td>56.5</td>\n",
       "      <td>64.6</td>\n",
       "      <td>62.2</td>\n",
       "      <td>NaN</td>\n",
       "      <td>NaN</td>\n",
       "      <td>NaN</td>\n",
       "      <td>NaN</td>\n",
       "    </tr>\n",
       "  </tbody>\n",
       "</table>\n",
       "<p>129 rows × 13 columns</p>\n",
       "</div>"
      ],
      "text/plain": [
       "             code     1     2     3     4     5     6     7     8     9    10  \\\n",
       "10707  1208281895  14.5  11.1  28.5  42.8  50.1  61.6  61.8  62.1  56.9  33.6   \n",
       "10708  1208281896  22.8  23.5  26.5  47.8  56.6  59.7  64.9  62.1  52.8  37.7   \n",
       "10709  1208281897  17.8  25.4  33.3  40.8  45.1  58.4  65.6  60.3  53.6  45.3   \n",
       "10710  1208281898  26.0  23.8  36.2  38.8  53.1  61.5  64.9  63.9  58.8  45.0   \n",
       "10711  1208281899  20.7  12.7  29.4  43.9  55.1  62.8  63.0  64.4  53.1  46.5   \n",
       "...           ...   ...   ...   ...   ...   ...   ...   ...   ...   ...   ...   \n",
       "10831  1208282019  22.8  27.4  29.6  42.8  55.4  60.0  65.6  62.3  59.6  44.9   \n",
       "10832  1208282020  29.3  27.6  38.2  39.1  50.2  60.3  66.3  62.1  54.3  43.4   \n",
       "10833  1208282021  25.4  19.6  35.6  41.0  49.0  62.2  64.7  65.0  57.2  51.3   \n",
       "10834  1208282022  17.4  22.9  33.9  40.5  54.6  59.8  66.2  63.2  55.3  39.5   \n",
       "10835  1208282023  31.0  30.2  32.6  40.7  50.7  56.5  64.6  62.2   NaN   NaN   \n",
       "\n",
       "         11    12  \n",
       "10707  31.6  25.8  \n",
       "10708  34.4  27.0  \n",
       "10709  32.6  25.8  \n",
       "10710  28.8  20.6  \n",
       "10711  36.1  21.4  \n",
       "...     ...   ...  \n",
       "10831  28.0  29.4  \n",
       "10832  36.4  26.4  \n",
       "10833  29.4  33.3  \n",
       "10834  33.1  25.9  \n",
       "10835   NaN   NaN  \n",
       "\n",
       "[129 rows x 13 columns]"
      ]
     },
     "execution_count": 7,
     "metadata": {},
     "output_type": "execute_result"
    }
   ],
   "source": [
    "\"\"\" Filter out south central Indiana. \"\"\"\n",
    "\n",
    "# set the state and division code\n",
    "statecode = \"12\" # Indiana\n",
    "divcode = \"08\" # South Central division\n",
    "state_div = statecode + divcode\n",
    "\n",
    "# get the rows that are in the requested climate division\n",
    "code_as_str = climdiv_df['code'].astype(str).str # convert the code column to a string\n",
    "in_div = code_as_str.startswith(state_div) # search the code column for entries starting with 1208\n",
    "\n",
    "# select only those rows using boolean indexing\n",
    "scin_df = climdiv_df[in_div]\n",
    "\n",
    "scin_df\n",
    "\n"
   ]
  },
  {
   "cell_type": "code",
   "execution_count": 8,
   "metadata": {},
   "outputs": [
    {
     "data": {
      "text/plain": [
       "<Axes: xlabel='date'>"
      ]
     },
     "execution_count": 8,
     "metadata": {},
     "output_type": "execute_result"
    },
    {
     "data": {
      "image/png": "[encoded data removed]",
      "text/plain": [
       "<Figure size 640x480 with 1 Axes>"
      ]
     },
     "metadata": {},
     "output_type": "display_data"
    }
   ],
   "source": [
    "\"\"\" Convert the dataset to a timeseries. \"\"\"\n",
    "# convert to a numpy array\n",
    "scin_as_numpy = scin_df.values\n",
    "# pull out only the temperature data\n",
    "scin_temp_np = scin_as_numpy[:,1:13]\n",
    "\n",
    "# convert the matrix to a vector\n",
    "scin_temps = scin_temp_np.ravel()\n",
    "\n",
    "# make dates for each index\n",
    "scin_dates = pd.date_range(start = '1895-01-1', end = '2024-01-01', freq = '1M')\n",
    "\n",
    "# create a new dataframe for the timeseries\n",
    "dataframe_dict = {'date' : scin_dates, 'temperature' : scin_temps}\n",
    "scin_ts = pd.DataFrame(dataframe_dict)\n",
    "scin_ts.plot('date', 'temperature')"
   ]
  },
  {
   "cell_type": "code",
   "execution_count": 9,
   "metadata": {},
   "outputs": [
    {
     "name": "stderr",
     "output_type": "stream",
     "text": [
      "/var/folders/qk/d2qw5j9x1h3cmpy31fr930ym0000gt/T/ipykernel_59699/4185795996.py:11: FutureWarning: The default value of numeric_only in DataFrameGroupBy.mean is deprecated. In a future version, numeric_only will default to False. Either specify numeric_only or select only columns which should be valid for the function.\n",
      "  scin_ts_winter_avg = scin_ts_winter.groupby(year).mean()\n"
     ]
    },
    {
     "data": {
      "image/png": "[encoded data removed]",
      "text/plain": [
       "<Figure size 640x480 with 1 Axes>"
      ]
     },
     "metadata": {},
     "output_type": "display_data"
    }
   ],
   "source": [
    "\"\"\" Select and average over winter times (DJF). \"\"\"\n",
    "\n",
    "# select only the winter months\n",
    "date_month_values = scin_ts['date'].dt.month # get the month values for each date\n",
    "in_winter = date_month_values.isin([1,2,3])\n",
    "# use boolean indexing to select only the winter months\n",
    "scin_ts_winter = scin_ts[in_winter]\n",
    "\n",
    "# group by year and average over the winter months\n",
    "year = scin_ts_winter['date'].dt.year # pull out the year for each date\n",
    "scin_ts_winter_avg = scin_ts_winter.groupby(year).mean()\n",
    "\n",
    "# plot the timeseries\n",
    "fig, ax = plt.subplots()\n",
    "scin_ts_winter_avg.plot(ax = ax)\n",
    "ax.set_ylabel(\"Temperature (F)\")\n",
    "plt.show()"
   ]
  },
  {
   "cell_type": "markdown",
   "metadata": {},
   "source": [
    "# Part 2: Reading and opening El Nino data"
   ]
  },
  {
   "cell_type": "code",
   "execution_count": 10,
   "metadata": {},
   "outputs": [
    {
     "data": {
      "text/html": [
       "<div>\n",
       "<style scoped>\n",
       "    .dataframe tbody tr th:only-of-type {\n",
       "        vertical-align: middle;\n",
       "    }\n",
       "\n",
       "    .dataframe tbody tr th {\n",
       "        vertical-align: top;\n",
       "    }\n",
       "\n",
       "    .dataframe thead th {\n",
       "        text-align: right;\n",
       "    }\n",
       "</style>\n",
       "<table border=\"1\" class=\"dataframe\">\n",
       "  <thead>\n",
       "    <tr style=\"text-align: right;\">\n",
       "      <th></th>\n",
       "      <th>Unnamed: 0</th>\n",
       "      <th>1854</th>\n",
       "      <th>1855</th>\n",
       "      <th>1856</th>\n",
       "      <th>1857</th>\n",
       "      <th>1858</th>\n",
       "      <th>1859</th>\n",
       "      <th>1860</th>\n",
       "      <th>1861</th>\n",
       "      <th>1862</th>\n",
       "      <th>...</th>\n",
       "      <th>2011</th>\n",
       "      <th>2012</th>\n",
       "      <th>2013</th>\n",
       "      <th>2014</th>\n",
       "      <th>2015</th>\n",
       "      <th>2016</th>\n",
       "      <th>2017</th>\n",
       "      <th>2018</th>\n",
       "      <th>2019</th>\n",
       "      <th>2020</th>\n",
       "    </tr>\n",
       "  </thead>\n",
       "  <tbody>\n",
       "    <tr>\n",
       "      <th>0</th>\n",
       "      <td>Jan</td>\n",
       "      <td>158.62</td>\n",
       "      <td>156.95</td>\n",
       "      <td>163.24</td>\n",
       "      <td>151.52</td>\n",
       "      <td>164.42</td>\n",
       "      <td>158.76</td>\n",
       "      <td>156.20</td>\n",
       "      <td>159.05</td>\n",
       "      <td>155.27</td>\n",
       "      <td>...</td>\n",
       "      <td>150.93</td>\n",
       "      <td>152.95</td>\n",
       "      <td>155.70</td>\n",
       "      <td>157.64</td>\n",
       "      <td>160.75</td>\n",
       "      <td>175.10</td>\n",
       "      <td>155.08</td>\n",
       "      <td>154.20</td>\n",
       "      <td>160.23</td>\n",
       "      <td>158.67</td>\n",
       "    </tr>\n",
       "    <tr>\n",
       "      <th>1</th>\n",
       "      <td>Feb</td>\n",
       "      <td>159.30</td>\n",
       "      <td>159.96</td>\n",
       "      <td>158.84</td>\n",
       "      <td>154.36</td>\n",
       "      <td>167.38</td>\n",
       "      <td>154.50</td>\n",
       "      <td>153.08</td>\n",
       "      <td>178.75</td>\n",
       "      <td>156.26</td>\n",
       "      <td>...</td>\n",
       "      <td>150.42</td>\n",
       "      <td>153.97</td>\n",
       "      <td>154.62</td>\n",
       "      <td>157.65</td>\n",
       "      <td>160.22</td>\n",
       "      <td>172.86</td>\n",
       "      <td>156.50</td>\n",
       "      <td>154.15</td>\n",
       "      <td>163.96</td>\n",
       "      <td>158.26</td>\n",
       "    </tr>\n",
       "    <tr>\n",
       "      <th>2</th>\n",
       "      <td>Mar</td>\n",
       "      <td>154.63</td>\n",
       "      <td>155.97</td>\n",
       "      <td>158.07</td>\n",
       "      <td>150.68</td>\n",
       "      <td>154.81</td>\n",
       "      <td>157.37</td>\n",
       "      <td>161.36</td>\n",
       "      <td>172.58</td>\n",
       "      <td>159.08</td>\n",
       "      <td>...</td>\n",
       "      <td>146.19</td>\n",
       "      <td>153.88</td>\n",
       "      <td>147.89</td>\n",
       "      <td>158.11</td>\n",
       "      <td>161.58</td>\n",
       "      <td>164.78</td>\n",
       "      <td>158.90</td>\n",
       "      <td>151.16</td>\n",
       "      <td>161.35</td>\n",
       "      <td>155.82</td>\n",
       "    </tr>\n",
       "    <tr>\n",
       "      <th>3</th>\n",
       "      <td>Apr</td>\n",
       "      <td>154.60</td>\n",
       "      <td>154.78</td>\n",
       "      <td>150.77</td>\n",
       "      <td>147.31</td>\n",
       "      <td>162.29</td>\n",
       "      <td>154.51</td>\n",
       "      <td>152.08</td>\n",
       "      <td>151.74</td>\n",
       "      <td>151.58</td>\n",
       "      <td>...</td>\n",
       "      <td>146.99</td>\n",
       "      <td>158.13</td>\n",
       "      <td>148.63</td>\n",
       "      <td>154.01</td>\n",
       "      <td>164.81</td>\n",
       "      <td>155.91</td>\n",
       "      <td>156.11</td>\n",
       "      <td>152.29</td>\n",
       "      <td>157.37</td>\n",
       "      <td>152.13</td>\n",
       "    </tr>\n",
       "    <tr>\n",
       "      <th>4</th>\n",
       "      <td>May</td>\n",
       "      <td>160.56</td>\n",
       "      <td>159.68</td>\n",
       "      <td>157.31</td>\n",
       "      <td>157.18</td>\n",
       "      <td>163.30</td>\n",
       "      <td>155.67</td>\n",
       "      <td>155.39</td>\n",
       "      <td>153.93</td>\n",
       "      <td>154.05</td>\n",
       "      <td>...</td>\n",
       "      <td>148.74</td>\n",
       "      <td>151.82</td>\n",
       "      <td>157.76</td>\n",
       "      <td>157.77</td>\n",
       "      <td>167.87</td>\n",
       "      <td>160.95</td>\n",
       "      <td>157.20</td>\n",
       "      <td>157.35</td>\n",
       "      <td>161.7</td>\n",
       "      <td>154.51</td>\n",
       "    </tr>\n",
       "    <tr>\n",
       "      <th>5</th>\n",
       "      <td>Jun</td>\n",
       "      <td>167.42</td>\n",
       "      <td>164.79</td>\n",
       "      <td>160.78</td>\n",
       "      <td>175.59</td>\n",
       "      <td>166.08</td>\n",
       "      <td>159.56</td>\n",
       "      <td>168.50</td>\n",
       "      <td>158.09</td>\n",
       "      <td>161.82</td>\n",
       "      <td>...</td>\n",
       "      <td>160.46</td>\n",
       "      <td>163.68</td>\n",
       "      <td>163.07</td>\n",
       "      <td>168.99</td>\n",
       "      <td>179.12</td>\n",
       "      <td>162.99</td>\n",
       "      <td>166.31</td>\n",
       "      <td>163.56</td>\n",
       "      <td>169.81</td>\n",
       "      <td>NaN</td>\n",
       "    </tr>\n",
       "    <tr>\n",
       "      <th>6</th>\n",
       "      <td>Jul</td>\n",
       "      <td>171.27</td>\n",
       "      <td>169.29</td>\n",
       "      <td>164.36</td>\n",
       "      <td>170.79</td>\n",
       "      <td>168.07</td>\n",
       "      <td>172.13</td>\n",
       "      <td>174.46</td>\n",
       "      <td>162.12</td>\n",
       "      <td>163.93</td>\n",
       "      <td>...</td>\n",
       "      <td>165.15</td>\n",
       "      <td>171.93</td>\n",
       "      <td>165.38</td>\n",
       "      <td>172.30</td>\n",
       "      <td>182.31</td>\n",
       "      <td>162.86</td>\n",
       "      <td>167.77</td>\n",
       "      <td>167.36</td>\n",
       "      <td>170.99</td>\n",
       "      <td>NaN</td>\n",
       "    </tr>\n",
       "    <tr>\n",
       "      <th>7</th>\n",
       "      <td>Aug</td>\n",
       "      <td>170.06</td>\n",
       "      <td>164.72</td>\n",
       "      <td>162.23</td>\n",
       "      <td>168.05</td>\n",
       "      <td>165.31</td>\n",
       "      <td>171.72</td>\n",
       "      <td>168.99</td>\n",
       "      <td>168.20</td>\n",
       "      <td>167.53</td>\n",
       "      <td>...</td>\n",
       "      <td>163.99</td>\n",
       "      <td>170.16</td>\n",
       "      <td>165.98</td>\n",
       "      <td>170.86</td>\n",
       "      <td>182.46</td>\n",
       "      <td>160.89</td>\n",
       "      <td>165.69</td>\n",
       "      <td>167.66</td>\n",
       "      <td>169.55</td>\n",
       "      <td>NaN</td>\n",
       "    </tr>\n",
       "    <tr>\n",
       "      <th>8</th>\n",
       "      <td>Sep</td>\n",
       "      <td>167.25</td>\n",
       "      <td>170.77</td>\n",
       "      <td>157.28</td>\n",
       "      <td>171.20</td>\n",
       "      <td>163.19</td>\n",
       "      <td>166.94</td>\n",
       "      <td>160.77</td>\n",
       "      <td>167.22</td>\n",
       "      <td>172.79</td>\n",
       "      <td>...</td>\n",
       "      <td>162.47</td>\n",
       "      <td>167.07</td>\n",
       "      <td>164.86</td>\n",
       "      <td>168.46</td>\n",
       "      <td>181.57</td>\n",
       "      <td>159.52</td>\n",
       "      <td>165.12</td>\n",
       "      <td>165.77</td>\n",
       "      <td>167.04</td>\n",
       "      <td>NaN</td>\n",
       "    </tr>\n",
       "    <tr>\n",
       "      <th>9</th>\n",
       "      <td>Oct</td>\n",
       "      <td>162.51</td>\n",
       "      <td>171.23</td>\n",
       "      <td>163.08</td>\n",
       "      <td>167.59</td>\n",
       "      <td>163.84</td>\n",
       "      <td>165.18</td>\n",
       "      <td>157.49</td>\n",
       "      <td>158.13</td>\n",
       "      <td>169.94</td>\n",
       "      <td>...</td>\n",
       "      <td>158.79</td>\n",
       "      <td>164.63</td>\n",
       "      <td>161.79</td>\n",
       "      <td>164.21</td>\n",
       "      <td>179.94</td>\n",
       "      <td>156.15</td>\n",
       "      <td>161.67</td>\n",
       "      <td>165.35</td>\n",
       "      <td>164.16</td>\n",
       "      <td>NaN</td>\n",
       "    </tr>\n",
       "    <tr>\n",
       "      <th>10</th>\n",
       "      <td>Nov</td>\n",
       "      <td>159.23</td>\n",
       "      <td>172.59</td>\n",
       "      <td>162.32</td>\n",
       "      <td>161.12</td>\n",
       "      <td>156.80</td>\n",
       "      <td>164.99</td>\n",
       "      <td>157.38</td>\n",
       "      <td>156.89</td>\n",
       "      <td>170.88</td>\n",
       "      <td>...</td>\n",
       "      <td>156.34</td>\n",
       "      <td>160.81</td>\n",
       "      <td>159.37</td>\n",
       "      <td>163.18</td>\n",
       "      <td>173.05</td>\n",
       "      <td>155.56</td>\n",
       "      <td>157.99</td>\n",
       "      <td>162.75</td>\n",
       "      <td>161.39</td>\n",
       "      <td>NaN</td>\n",
       "    </tr>\n",
       "    <tr>\n",
       "      <th>11</th>\n",
       "      <td>Dec</td>\n",
       "      <td>155.39</td>\n",
       "      <td>170.07</td>\n",
       "      <td>158.21</td>\n",
       "      <td>163.04</td>\n",
       "      <td>158.08</td>\n",
       "      <td>163.27</td>\n",
       "      <td>157.97</td>\n",
       "      <td>155.87</td>\n",
       "      <td>156.28</td>\n",
       "      <td>...</td>\n",
       "      <td>154.87</td>\n",
       "      <td>157.99</td>\n",
       "      <td>158.56</td>\n",
       "      <td>161.79</td>\n",
       "      <td>172.93</td>\n",
       "      <td>155.60</td>\n",
       "      <td>155.97</td>\n",
       "      <td>161.52</td>\n",
       "      <td>160.333</td>\n",
       "      <td>NaN</td>\n",
       "    </tr>\n",
       "  </tbody>\n",
       "</table>\n",
       "<p>12 rows × 168 columns</p>\n",
       "</div>"
      ],
      "text/plain": [
       "   Unnamed: 0    1854    1855    1856    1857    1858    1859    1860    1861  \\\n",
       "0         Jan  158.62  156.95  163.24  151.52  164.42  158.76  156.20  159.05   \n",
       "1         Feb  159.30  159.96  158.84  154.36  167.38  154.50  153.08  178.75   \n",
       "2         Mar  154.63  155.97  158.07  150.68  154.81  157.37  161.36  172.58   \n",
       "3         Apr  154.60  154.78  150.77  147.31  162.29  154.51  152.08  151.74   \n",
       "4         May  160.56  159.68  157.31  157.18  163.30  155.67  155.39  153.93   \n",
       "5         Jun  167.42  164.79  160.78  175.59  166.08  159.56  168.50  158.09   \n",
       "6         Jul  171.27  169.29  164.36  170.79  168.07  172.13  174.46  162.12   \n",
       "7         Aug  170.06  164.72  162.23  168.05  165.31  171.72  168.99  168.20   \n",
       "8         Sep  167.25  170.77  157.28  171.20  163.19  166.94  160.77  167.22   \n",
       "9         Oct  162.51  171.23  163.08  167.59  163.84  165.18  157.49  158.13   \n",
       "10        Nov  159.23  172.59  162.32  161.12  156.80  164.99  157.38  156.89   \n",
       "11        Dec  155.39  170.07  158.21  163.04  158.08  163.27  157.97  155.87   \n",
       "\n",
       "      1862  ...    2011    2012    2013    2014    2015    2016    2017  \\\n",
       "0   155.27  ...  150.93  152.95  155.70  157.64  160.75  175.10  155.08   \n",
       "1   156.26  ...  150.42  153.97  154.62  157.65  160.22  172.86  156.50   \n",
       "2   159.08  ...  146.19  153.88  147.89  158.11  161.58  164.78  158.90   \n",
       "3   151.58  ...  146.99  158.13  148.63  154.01  164.81  155.91  156.11   \n",
       "4   154.05  ...  148.74  151.82  157.76  157.77  167.87  160.95  157.20   \n",
       "5   161.82  ...  160.46  163.68  163.07  168.99  179.12  162.99  166.31   \n",
       "6   163.93  ...  165.15  171.93  165.38  172.30  182.31  162.86  167.77   \n",
       "7   167.53  ...  163.99  170.16  165.98  170.86  182.46  160.89  165.69   \n",
       "8   172.79  ...  162.47  167.07  164.86  168.46  181.57  159.52  165.12   \n",
       "9   169.94  ...  158.79  164.63  161.79  164.21  179.94  156.15  161.67   \n",
       "10  170.88  ...  156.34  160.81  159.37  163.18  173.05  155.56  157.99   \n",
       "11  156.28  ...  154.87  157.99  158.56  161.79  172.93  155.60  155.97   \n",
       "\n",
       "      2018     2019    2020  \n",
       "0   154.20   160.23  158.67  \n",
       "1   154.15   163.96  158.26  \n",
       "2   151.16   161.35  155.82  \n",
       "3   152.29   157.37  152.13  \n",
       "4   157.35    161.7  154.51  \n",
       "5   163.56   169.81     NaN  \n",
       "6   167.36   170.99     NaN  \n",
       "7   167.66   169.55     NaN  \n",
       "8   165.77   167.04     NaN  \n",
       "9   165.35   164.16     NaN  \n",
       "10  162.75  161.39      NaN  \n",
       "11  161.52  160.333     NaN  \n",
       "\n",
       "[12 rows x 168 columns]"
      ]
     },
     "execution_count": 10,
     "metadata": {},
     "output_type": "execute_result"
    }
   ],
   "source": [
    "# set the URL to the ELI file\n",
    "eli_url = \"https://portal.nersc.gov/archive/home/projects/cascade/www/ELI/ELI_ERSSTv5_1854.01-2020.05.xlsx\"\n",
    "\n",
    "# read in the data\n",
    "eli_df = pd.read_excel(eli_url, sheet_name = \"ELI_ERSSTv5_1854.01-2020.02\", header = 0, skiprows = 0)\n",
    "eli_df"
   ]
  },
  {
   "cell_type": "markdown",
   "metadata": {},
   "source": [
    "hint: use the `merge()` method in pandas to get the ELI and NOAA data to align."
   ]
  },
  {
   "cell_type": "code",
   "execution_count": 35,
   "metadata": {},
   "outputs": [],
   "source": [
    "eli_ts = eli_df.T.values.ravel()\n",
    "eli_ts = eli_ts[12:-7]\n",
    "\n",
    "eli_dates = pd.date_range(start='1854-01-01', end='2020-06-01', freq='M')\n",
    "\n",
    "eli_ts_df = pd.DataFrame({'date': eli_dates, 'ELI': eli_ts})\n",
    "\n",
    "eli_winter = eli_ts_df[eli_ts_df['date'].dt.month.isin([1,2,3])]\n",
    "eli_winter_avg = eli_winter.groupby(eli_winter['date'].dt.year).mean().drop('date',axis=1)\n"
   ]
  },
  {
   "cell_type": "code",
   "execution_count": 37,
   "metadata": {},
   "outputs": [
    {
     "data": {
      "image/png": "[encoded data removed]",
      "text/plain": [
       "<Figure size 640x480 with 1 Axes>"
      ]
     },
     "metadata": {},
     "output_type": "display_data"
    }
   ],
   "source": [
    "fig, ax = plt.subplots()\n",
    "eli_winter_avg.plot(ax = ax)\n",
    "ax.set_ylabel(\"ELI\")\n",
    "plt.show()"
   ]
  },
  {
   "cell_type": "code",
   "execution_count": 40,
   "metadata": {},
   "outputs": [],
   "source": [
    "# merge\n",
    "merged_data = pd.merge(scin_ts_winter_avg, eli_winter_avg, left_index=True, right_index=True)\n"
   ]
  },
  {
   "cell_type": "code",
   "execution_count": 46,
   "metadata": {},
   "outputs": [
    {
     "data": {
      "application/vnd.plotly.v1+json": {
       "config": {
        "plotlyServerURL": "https://plot.ly"
       },
       "data": [
        {
         "hovertemplate": "ELI=%{x}<br>temperature=%{y}<extra></extra>",
         "legendgroup": "",
         "marker": {
          "color": "#636efa",
          "symbol": "circle"
         },
         "mode": "markers",
         "name": "",
         "orientation": "v",
         "showlegend": false,
         "type": "scatter",
         "x": [
          161.85666666666668,
          159.57000000000002,
          164.54,
          156.1833333333333,
          159.01333333333332,
          173.40666666666667,
          159.85,
          159.72666666666666,
          171.34666666666666,
          156.42,
          171.35333333333335,
          163.11333333333334,
          155.27666666666667,
          160.11666666666667,
          153.47333333333333,
          148.48666666666668,
          154.35666666666665,
          181.04,
          156.0533333333333,
          163.50333333333333,
          168.4366666666667,
          152.73000000000002,
          144.16666666666666,
          160.42666666666665,
          169.9,
          155.28666666666666,
          152.64333333333335,
          157.00333333333333,
          153.9466666666667,
          158.54999999999998,
          154.42333333333335,
          165.67666666666665,
          150.15666666666667,
          155.47333333333333,
          154.61666666666667,
          162.79666666666665,
          166.49666666666667,
          159.48666666666668,
          154.92666666666665,
          151.39,
          156.01333333333335,
          156.25333333333333,
          154.89333333333335,
          153.50333333333336,
          154.47333333333333,
          173.89666666666668,
          181.10666666666665,
          163.48,
          153.82666666666665,
          154.82333333333335,
          149.53,
          154.03666666666666,
          160.01000000000002,
          171.96333333333334,
          157.19,
          150.58333333333334,
          156.79999999999998,
          157.82333333333335,
          159.65,
          160.96333333333334,
          151.84,
          152.39,
          158.36333333333332,
          172.03,
          164.14333333333335,
          155.18333333333337,
          156.54999999999998,
          153.29666666666665,
          154.50333333333333,
          158.38333333333335,
          155.77333333333334,
          167.93666666666664,
          155.80666666666664,
          158.38333333333333,
          166.58666666666667,
          156.57333333333335,
          151.0633333333333,
          157.17999999999998,
          166.67999999999998,
          151.81,
          156.89666666666665,
          152.42666666666665,
          159.47666666666666,
          159.36666666666667,
          155.67666666666665,
          159.22666666666666,
          155.91666666666666,
          155.26666666666668,
          203.4466666666667,
          151.96,
          151.86,
          155.5233333333333,
          171.46000000000004,
          157.26333333333332,
          150.51000000000002,
          157.89666666666668,
          160.54,
          177.28,
          162.18666666666667,
          156.52,
          162.41333333333333,
          152.77,
          158.72333333333333,
          208.42,
          148.44,
          147.43999999999997,
          149.37333333333333,
          160.10333333333332,
          160.60666666666668,
          155.04999999999998,
          159.1866666666667,
          152.85666666666665,
          157.79333333333332,
          151.23666666666665,
          149.68333333333334,
          165.29,
          149.18,
          153.6,
          152.73666666666665,
          157.79999999999998,
          160.85000000000002,
          170.91333333333333,
          156.82666666666668,
          153.17,
          161.84666666666666,
          157.58333333333331
         ],
         "xaxis": "x",
         "y": [
          18.033333333333335,
          24.266666666666666,
          25.5,
          28.666666666666668,
          20.933333333333334,
          23.066666666666666,
          24,
          22.566666666666666,
          27.666666666666668,
          21.833333333333332,
          21.23333333333333,
          22.900000000000002,
          29.26666666666667,
          26.96666666666667,
          27.933333333333334,
          25.066666666666666,
          27.8,
          17.233333333333334,
          25.46666666666667,
          24.599999999999998,
          24.766666666666666,
          24.26666666666667,
          22.933333333333334,
          19.099999999999998,
          26.333333333333332,
          23.3,
          31.366666666666664,
          26.933333333333334,
          24.933333333333334,
          22.566666666666666,
          27.433333333333334,
          24.53333333333333,
          28.600000000000005,
          24.633333333333336,
          23.7,
          26.333333333333332,
          26.866666666666664,
          29.133333333333336,
          27.900000000000002,
          23.233333333333334,
          29.53333333333333,
          21.53333333333333,
          26.133333333333336,
          30.666666666666668,
          27.833333333333332,
          20.933333333333334,
          23.366666666666664,
          24.7,
          23.933333333333334,
          26.066666666666666,
          27.700000000000003,
          29.666666666666668,
          22.666666666666668,
          23.433333333333337,
          29.599999999999998,
          28.46666666666667,
          25.099999999999998,
          28.866666666666664,
          29.599999999999998,
          27.333333333333332,
          25.899999999999995,
          26.5,
          26.8,
          21.633333333333336,
          23.900000000000002,
          22.3,
          26.566666666666663,
          24.53333333333333,
          20.366666666666667,
          24.666666666666668,
          22.433333333333334,
          23.599999999999998,
          25.2,
          21.3,
          22.7,
          20.900000000000002,
          22.3,
          23.5,
          28.933333333333334,
          28.76666666666667,
          27.400000000000002,
          28.366666666666664,
          19.599999999999998,
          15.466666666666667,
          19.466666666666665,
          22.900000000000002,
          23.333333333333332,
          21.833333333333332,
          27.766666666666666,
          24.133333333333336,
          22.833333333333332,
          26.96666666666667,
          27.96666666666667,
          23.099999999999998,
          27.46666666666667,
          32.300000000000004,
          28.399999999999995,
          29.066666666666666,
          25.099999999999998,
          23.3,
          26.3,
          23.166666666666668,
          27.3,
          32.699999999999996,
          26.53333333333333,
          28.733333333333334,
          25.666666666666668,
          28.066666666666666,
          23.733333333333334,
          26.400000000000002,
          29.366666666666664,
          29.46666666666667,
          27.7,
          26,
          26.233333333333334,
          24.7,
          27.566666666666666,
          33.266666666666666,
          25.7,
          19.5,
          21.266666666666666,
          29.366666666666664,
          32.6,
          26,
          26.599999999999998,
          31.700000000000003
         ],
         "yaxis": "y"
        },
        {
         "hovertemplate": "<b>OLS trendline</b><br>temperature = -0.0122423 * ELI + 27.3938<br>R<sup>2</sup>=0.001109<br><br>ELI=%{x}<br>temperature=%{y} <b>(trend)</b><extra></extra>",
         "legendgroup": "",
         "marker": {
          "color": "#636efa",
          "symbol": "circle"
         },
         "mode": "lines",
         "name": "",
         "showlegend": false,
         "type": "scatter",
         "x": [
          144.16666666666666,
          147.43999999999997,
          148.44,
          148.48666666666668,
          149.18,
          149.37333333333333,
          149.53,
          149.68333333333334,
          150.15666666666667,
          150.51000000000002,
          150.58333333333334,
          151.0633333333333,
          151.23666666666665,
          151.39,
          151.81,
          151.84,
          151.86,
          151.96,
          152.39,
          152.42666666666665,
          152.64333333333335,
          152.73000000000002,
          152.73666666666665,
          152.77,
          152.85666666666665,
          153.17,
          153.29666666666665,
          153.47333333333333,
          153.50333333333336,
          153.6,
          153.82666666666665,
          153.9466666666667,
          154.03666666666666,
          154.35666666666665,
          154.42333333333335,
          154.47333333333333,
          154.50333333333333,
          154.61666666666667,
          154.82333333333335,
          154.89333333333335,
          154.92666666666665,
          155.04999999999998,
          155.18333333333337,
          155.26666666666668,
          155.27666666666667,
          155.28666666666666,
          155.47333333333333,
          155.5233333333333,
          155.67666666666665,
          155.77333333333334,
          155.80666666666664,
          155.91666666666666,
          156.01333333333335,
          156.0533333333333,
          156.1833333333333,
          156.25333333333333,
          156.42,
          156.52,
          156.54999999999998,
          156.57333333333335,
          156.79999999999998,
          156.82666666666668,
          156.89666666666665,
          157.00333333333333,
          157.17999999999998,
          157.19,
          157.26333333333332,
          157.58333333333331,
          157.79333333333332,
          157.79999999999998,
          157.82333333333335,
          157.89666666666668,
          158.36333333333332,
          158.38333333333333,
          158.38333333333335,
          158.54999999999998,
          158.72333333333333,
          159.01333333333332,
          159.1866666666667,
          159.22666666666666,
          159.36666666666667,
          159.47666666666666,
          159.48666666666668,
          159.57000000000002,
          159.65,
          159.72666666666666,
          159.85,
          160.01000000000002,
          160.10333333333332,
          160.11666666666667,
          160.42666666666665,
          160.54,
          160.60666666666668,
          160.85000000000002,
          160.96333333333334,
          161.84666666666666,
          161.85666666666668,
          162.18666666666667,
          162.41333333333333,
          162.79666666666665,
          163.11333333333334,
          163.48,
          163.50333333333333,
          164.14333333333335,
          164.54,
          165.29,
          165.67666666666665,
          166.49666666666667,
          166.58666666666667,
          166.67999999999998,
          167.93666666666664,
          168.4366666666667,
          169.9,
          170.91333333333333,
          171.34666666666666,
          171.35333333333335,
          171.46000000000004,
          171.96333333333334,
          172.03,
          173.40666666666667,
          173.89666666666668,
          177.28,
          181.04,
          181.10666666666665,
          203.4466666666667,
          208.42
         ],
         "xaxis": "x",
         "y": [
          25.62889917828048,
          25.588826151859777,
          25.57658388309581,
          25.576012577220162,
          25.56752460421048,
          25.565157765582782,
          25.56323981014309,
          25.561362662265953,
          25.555567988384343,
          25.55124238675441,
          25.550344620378386,
          25.544468331371682,
          25.542346338119263,
          25.54046919024212,
          25.535327437361257,
          25.534960169298337,
          25.53471532392306,
          25.533491097046664,
          25.528226921478158,
          25.527778038290148,
          25.52512554672462,
          25.524064550098412,
          25.52398293497332,
          25.523574859347853,
          25.52251386272164,
          25.518677951842268,
          25.5171272644655,
          25.514964463650532,
          25.514597195587612,
          25.513413776273765,
          25.5106388620206,
          25.509169789768922,
          25.508067985580166,
          25.504150459575698,
          25.503334308324767,
          25.50272219488657,
          25.50235492682365,
          25.50096746969707,
          25.49843740081918,
          25.497580442005706,
          25.49717236638024,
          25.49566248656602,
          25.494030184064155,
          25.49300999500049,
          25.492887572312853,
          25.492765149625214,
          25.490479926122607,
          25.48986781268441,
          25.487990664807267,
          25.486807245493416,
          25.48639916986795,
          25.485052520303917,
          25.483869100990066,
          25.483379410239507,
          25.481787915300192,
          25.480930956486716,
          25.478890578359387,
          25.47766635148299,
          25.477299083420075,
          25.47701343048225,
          25.474238516229082,
          25.47391205572871,
          25.473055096915232,
          25.471749254913743,
          25.469586454098778,
          25.469464031411135,
          25.468566265035115,
          25.464648739030647,
          25.462077862590213,
          25.46199624746512,
          25.461710594527293,
          25.46081282815127,
          25.455099769394753,
          25.454854924019475,
          25.454854924019475,
          25.45281454589215,
          25.450692552639726,
          25.44714229469818,
          25.44502030144576,
          25.4445306106952,
          25.442816693068245,
          25.441470043504207,
          25.44134762081657,
          25.440327431752905,
          25.439348050251787,
          25.43840947631322,
          25.436899596498996,
          25.43494083349676,
          25.43379822174546,
          25.43363499149527,
          25.429839888178442,
          25.428452431051863,
          25.42763627980093,
          25.424657327735034,
          25.42326987060845,
          25.412455866533616,
          25.412333443845977,
          25.40829349515387,
          25.405518580900704,
          25.40082571120785,
          25.396948992765928,
          25.39246016088581,
          25.392174507947985,
          25.38433945593905,
          25.37948335599601,
          25.370301654423038,
          25.36556797716764,
          25.355529316781187,
          25.35442751259243,
          25.35328490084113,
          25.337900449761083,
          25.3317793153791,
          25.313864795421168,
          25.301459296407018,
          25.29615431327597,
          25.296072698150876,
          25.294766856149387,
          25.288604914204857,
          25.287788762953927,
          25.270935239622204,
          25.264936527927862,
          25.22351685194312,
          25.17748592139062,
          25.17666977013969,
          24.903177485952757,
          24.842292602633314
         ],
         "yaxis": "y"
        }
       ],
       "layout": {
        "legend": {
         "tracegroupgap": 0
        },
        "margin": {
         "t": 60
        },
        "template": {
         "data": {
          "bar": [
           {
            "error_x": {
             "color": "#2a3f5f"
            },
            "error_y": {
             "color": "#2a3f5f"
            },
            "marker": {
             "line": {
              "color": "#E5ECF6",
              "width": 0.5
             },
             "pattern": {
              "fillmode": "overlay",
              "size": 10,
              "solidity": 0.2
             }
            },
            "type": "bar"
           }
          ],
          "barpolar": [
           {
            "marker": {
             "line": {
              "color": "#E5ECF6",
              "width": 0.5
             },
             "pattern": {
              "fillmode": "overlay",
              "size": 10,
              "solidity": 0.2
             }
            },
            "type": "barpolar"
           }
          ],
          "carpet": [
           {
            "aaxis": {
             "endlinecolor": "#2a3f5f",
             "gridcolor": "white",
             "linecolor": "white",
             "minorgridcolor": "white",
             "startlinecolor": "#2a3f5f"
            },
            "baxis": {
             "endlinecolor": "#2a3f5f",
             "gridcolor": "white",
             "linecolor": "white",
             "minorgridcolor": "white",
             "startlinecolor": "#2a3f5f"
            },
            "type": "carpet"
           }
          ],
          "choropleth": [
           {
            "colorbar": {
             "outlinewidth": 0,
             "ticks": ""
            },
            "type": "choropleth"
           }
          ],
          "contour": [
           {
            "colorbar": {
             "outlinewidth": 0,
             "ticks": ""
            },
            "colorscale": [
             [
              0,
              "#0d0887"
             ],
             [
              0.1111111111111111,
              "#46039f"
             ],
             [
              0.2222222222222222,
              "#7201a8"
             ],
             [
              0.3333333333333333,
              "#9c179e"
             ],
             [
              0.4444444444444444,
              "#bd3786"
             ],
             [
              0.5555555555555556,
              "#d8576b"
             ],
             [
              0.6666666666666666,
              "#ed7953"
             ],
             [
              0.7777777777777778,
              "#fb9f3a"
             ],
             [
              0.8888888888888888,
              "#fdca26"
             ],
             [
              1,
              "#f0f921"
             ]
            ],
            "type": "contour"
           }
          ],
          "contourcarpet": [
           {
            "colorbar": {
             "outlinewidth": 0,
             "ticks": ""
            },
            "type": "contourcarpet"
           }
          ],
          "heatmap": [
           {
            "colorbar": {
             "outlinewidth": 0,
             "ticks": ""
            },
            "colorscale": [
             [
              0,
              "#0d0887"
             ],
             [
              0.1111111111111111,
              "#46039f"
             ],
             [
              0.2222222222222222,
              "#7201a8"
             ],
             [
              0.3333333333333333,
              "#9c179e"
             ],
             [
              0.4444444444444444,
              "#bd3786"
             ],
             [
              0.5555555555555556,
              "#d8576b"
             ],
             [
              0.6666666666666666,
              "#ed7953"
             ],
             [
              0.7777777777777778,
              "#fb9f3a"
             ],
             [
              0.8888888888888888,
              "#fdca26"
             ],
             [
              1,
              "#f0f921"
             ]
            ],
            "type": "heatmap"
           }
          ],
          "heatmapgl": [
           {
            "colorbar": {
             "outlinewidth": 0,
             "ticks": ""
            },
            "colorscale": [
             [
              0,
              "#0d0887"
             ],
             [
              0.1111111111111111,
              "#46039f"
             ],
             [
              0.2222222222222222,
              "#7201a8"
             ],
             [
              0.3333333333333333,
              "#9c179e"
             ],
             [
              0.4444444444444444,
              "#bd3786"
             ],
             [
              0.5555555555555556,
              "#d8576b"
             ],
             [
              0.6666666666666666,
              "#ed7953"
             ],
             [
              0.7777777777777778,
              "#fb9f3a"
             ],
             [
              0.8888888888888888,
              "#fdca26"
             ],
             [
              1,
              "#f0f921"
             ]
            ],
            "type": "heatmapgl"
           }
          ],
          "histogram": [
           {
            "marker": {
             "pattern": {
              "fillmode": "overlay",
              "size": 10,
              "solidity": 0.2
             }
            },
            "type": "histogram"
           }
          ],
          "histogram2d": [
           {
            "colorbar": {
             "outlinewidth": 0,
             "ticks": ""
            },
            "colorscale": [
             [
              0,
              "#0d0887"
             ],
             [
              0.1111111111111111,
              "#46039f"
             ],
             [
              0.2222222222222222,
              "#7201a8"
             ],
             [
              0.3333333333333333,
              "#9c179e"
             ],
             [
              0.4444444444444444,
              "#bd3786"
             ],
             [
              0.5555555555555556,
              "#d8576b"
             ],
             [
              0.6666666666666666,
              "#ed7953"
             ],
             [
              0.7777777777777778,
              "#fb9f3a"
             ],
             [
              0.8888888888888888,
              "#fdca26"
             ],
             [
              1,
              "#f0f921"
             ]
            ],
            "type": "histogram2d"
           }
          ],
          "histogram2dcontour": [
           {
            "colorbar": {
             "outlinewidth": 0,
             "ticks": ""
            },
            "colorscale": [
             [
              0,
              "#0d0887"
             ],
             [
              0.1111111111111111,
              "#46039f"
             ],
             [
              0.2222222222222222,
              "#7201a8"
             ],
             [
              0.3333333333333333,
              "#9c179e"
             ],
             [
              0.4444444444444444,
              "#bd3786"
             ],
             [
              0.5555555555555556,
              "#d8576b"
             ],
             [
              0.6666666666666666,
              "#ed7953"
             ],
             [
              0.7777777777777778,
              "#fb9f3a"
             ],
             [
              0.8888888888888888,
              "#fdca26"
             ],
             [
              1,
              "#f0f921"
             ]
            ],
            "type": "histogram2dcontour"
           }
          ],
          "mesh3d": [
           {
            "colorbar": {
             "outlinewidth": 0,
             "ticks": ""
            },
            "type": "mesh3d"
           }
          ],
          "parcoords": [
           {
            "line": {
             "colorbar": {
              "outlinewidth": 0,
              "ticks": ""
             }
            },
            "type": "parcoords"
           }
          ],
          "pie": [
           {
            "automargin": true,
            "type": "pie"
           }
          ],
          "scatter": [
           {
            "fillpattern": {
             "fillmode": "overlay",
             "size": 10,
             "solidity": 0.2
            },
            "type": "scatter"
           }
          ],
          "scatter3d": [
           {
            "line": {
             "colorbar": {
              "outlinewidth": 0,
              "ticks": ""
             }
            },
            "marker": {
             "colorbar": {
              "outlinewidth": 0,
              "ticks": ""
             }
            },
            "type": "scatter3d"
           }
          ],
          "scattercarpet": [
           {
            "marker": {
             "colorbar": {
              "outlinewidth": 0,
              "ticks": ""
             }
            },
            "type": "scattercarpet"
           }
          ],
          "scattergeo": [
           {
            "marker": {
             "colorbar": {
              "outlinewidth": 0,
              "ticks": ""
             }
            },
            "type": "scattergeo"
           }
          ],
          "scattergl": [
           {
            "marker": {
             "colorbar": {
              "outlinewidth": 0,
              "ticks": ""
             }
            },
            "type": "scattergl"
           }
          ],
          "scattermapbox": [
           {
            "marker": {
             "colorbar": {
              "outlinewidth": 0,
              "ticks": ""
             }
            },
            "type": "scattermapbox"
           }
          ],
          "scatterpolar": [
           {
            "marker": {
             "colorbar": {
              "outlinewidth": 0,
              "ticks": ""
             }
            },
            "type": "scatterpolar"
           }
          ],
          "scatterpolargl": [
           {
            "marker": {
             "colorbar": {
              "outlinewidth": 0,
              "ticks": ""
             }
            },
            "type": "scatterpolargl"
           }
          ],
          "scatterternary": [
           {
            "marker": {
             "colorbar": {
              "outlinewidth": 0,
              "ticks": ""
             }
            },
            "type": "scatterternary"
           }
          ],
          "surface": [
           {
            "colorbar": {
             "outlinewidth": 0,
             "ticks": ""
            },
            "colorscale": [
             [
              0,
              "#0d0887"
             ],
             [
              0.1111111111111111,
              "#46039f"
             ],
             [
              0.2222222222222222,
              "#7201a8"
             ],
             [
              0.3333333333333333,
              "#9c179e"
             ],
             [
              0.4444444444444444,
              "#bd3786"
             ],
             [
              0.5555555555555556,
              "#d8576b"
             ],
             [
              0.6666666666666666,
              "#ed7953"
             ],
             [
              0.7777777777777778,
              "#fb9f3a"
             ],
             [
              0.8888888888888888,
              "#fdca26"
             ],
             [
              1,
              "#f0f921"
             ]
            ],
            "type": "surface"
           }
          ],
          "table": [
           {
            "cells": {
             "fill": {
              "color": "#EBF0F8"
             },
             "line": {
              "color": "white"
             }
            },
            "header": {
             "fill": {
              "color": "#C8D4E3"
             },
             "line": {
              "color": "white"
             }
            },
            "type": "table"
           }
          ]
         },
         "layout": {
          "annotationdefaults": {
           "arrowcolor": "#2a3f5f",
           "arrowhead": 0,
           "arrowwidth": 1
          },
          "autotypenumbers": "strict",
          "coloraxis": {
           "colorbar": {
            "outlinewidth": 0,
            "ticks": ""
           }
          },
          "colorscale": {
           "diverging": [
            [
             0,
             "#8e0152"
            ],
            [
             0.1,
             "#c51b7d"
            ],
            [
             0.2,
             "#de77ae"
            ],
            [
             0.3,
             "#f1b6da"
            ],
            [
             0.4,
             "#fde0ef"
            ],
            [
             0.5,
             "#f7f7f7"
            ],
            [
             0.6,
             "#e6f5d0"
            ],
            [
             0.7,
             "#b8e186"
            ],
            [
             0.8,
             "#7fbc41"
            ],
            [
             0.9,
             "#4d9221"
            ],
            [
             1,
             "#276419"
            ]
           ],
           "sequential": [
            [
             0,
             "#0d0887"
            ],
            [
             0.1111111111111111,
             "#46039f"
            ],
            [
             0.2222222222222222,
             "#7201a8"
            ],
            [
             0.3333333333333333,
             "#9c179e"
            ],
            [
             0.4444444444444444,
             "#bd3786"
            ],
            [
             0.5555555555555556,
             "#d8576b"
            ],
            [
             0.6666666666666666,
             "#ed7953"
            ],
            [
             0.7777777777777778,
             "#fb9f3a"
            ],
            [
             0.8888888888888888,
             "#fdca26"
            ],
            [
             1,
             "#f0f921"
            ]
           ],
           "sequentialminus": [
            [
             0,
             "#0d0887"
            ],
            [
             0.1111111111111111,
             "#46039f"
            ],
            [
             0.2222222222222222,
             "#7201a8"
            ],
            [
             0.3333333333333333,
             "#9c179e"
            ],
            [
             0.4444444444444444,
             "#bd3786"
            ],
            [
             0.5555555555555556,
             "#d8576b"
            ],
            [
             0.6666666666666666,
             "#ed7953"
            ],
            [
             0.7777777777777778,
             "#fb9f3a"
            ],
            [
             0.8888888888888888,
             "#fdca26"
            ],
            [
             1,
             "#f0f921"
            ]
           ]
          },
          "colorway": [
           "#636efa",
           "#EF553B",
           "#00cc96",
           "#ab63fa",
           "#FFA15A",
           "#19d3f3",
           "#FF6692",
           "#B6E880",
           "#FF97FF",
           "#FECB52"
          ],
          "font": {
           "color": "#2a3f5f"
          },
          "geo": {
           "bgcolor": "white",
           "lakecolor": "white",
           "landcolor": "#E5ECF6",
           "showlakes": true,
           "showland": true,
           "subunitcolor": "white"
          },
          "hoverlabel": {
           "align": "left"
          },
          "hovermode": "closest",
          "mapbox": {
           "style": "light"
          },
          "paper_bgcolor": "white",
          "plot_bgcolor": "#E5ECF6",
          "polar": {
           "angularaxis": {
            "gridcolor": "white",
            "linecolor": "white",
            "ticks": ""
           },
           "bgcolor": "#E5ECF6",
           "radialaxis": {
            "gridcolor": "white",
            "linecolor": "white",
            "ticks": ""
           }
          },
          "scene": {
           "xaxis": {
            "backgroundcolor": "#E5ECF6",
            "gridcolor": "white",
            "gridwidth": 2,
            "linecolor": "white",
            "showbackground": true,
            "ticks": "",
            "zerolinecolor": "white"
           },
           "yaxis": {
            "backgroundcolor": "#E5ECF6",
            "gridcolor": "white",
            "gridwidth": 2,
            "linecolor": "white",
            "showbackground": true,
            "ticks": "",
            "zerolinecolor": "white"
           },
           "zaxis": {
            "backgroundcolor": "#E5ECF6",
            "gridcolor": "white",
            "gridwidth": 2,
            "linecolor": "white",
            "showbackground": true,
            "ticks": "",
            "zerolinecolor": "white"
           }
          },
          "shapedefaults": {
           "line": {
            "color": "#2a3f5f"
           }
          },
          "ternary": {
           "aaxis": {
            "gridcolor": "white",
            "linecolor": "white",
            "ticks": ""
           },
           "baxis": {
            "gridcolor": "white",
            "linecolor": "white",
            "ticks": ""
           },
           "bgcolor": "#E5ECF6",
           "caxis": {
            "gridcolor": "white",
            "linecolor": "white",
            "ticks": ""
           }
          },
          "title": {
           "x": 0.05
          },
          "xaxis": {
           "automargin": true,
           "gridcolor": "white",
           "linecolor": "white",
           "ticks": "",
           "title": {
            "standoff": 15
           },
           "zerolinecolor": "white",
           "zerolinewidth": 2
          },
          "yaxis": {
           "automargin": true,
           "gridcolor": "white",
           "linecolor": "white",
           "ticks": "",
           "title": {
            "standoff": 15
           },
           "zerolinecolor": "white",
           "zerolinewidth": 2
          }
         }
        },
        "xaxis": {
         "anchor": "y",
         "domain": [
          0,
          1
         ],
         "title": {
          "text": "ELI"
         }
        },
        "yaxis": {
         "anchor": "x",
         "domain": [
          0,
          1
         ],
         "title": {
          "text": "temperature"
         }
        }
       }
      },
      "text/html": [
       "<div>                            <div id=\"9a9d3d8b-dfc5-49bd-b81c-3ab7a578c85c\" class=\"plotly-graph-div\" style=\"height:525px; width:100%;\"></div>            <script type=\"text/javascript\">                require([\"plotly\"], function(Plotly) {                    window.PLOTLYENV=window.PLOTLYENV || {};                                    if (document.getElementById(\"9a9d3d8b-dfc5-49bd-b81c-3ab7a578c85c\")) {                    Plotly.newPlot(                        \"9a9d3d8b-dfc5-49bd-b81c-3ab7a578c85c\",                        [{\"hovertemplate\":\"ELI=%{x}<br>temperature=%{y}<extra></extra>\",\"legendgroup\":\"\",\"marker\":{\"color\":\"#636efa\",\"symbol\":\"circle\"},\"mode\":\"markers\",\"name\":\"\",\"orientation\":\"v\",\"showlegend\":false,\"x\":[161.85666666666668,159.57000000000002,164.54,156.1833333333333,159.01333333333332,173.40666666666667,159.85,159.72666666666666,171.34666666666666,156.42,171.35333333333335,163.11333333333334,155.27666666666667,160.11666666666667,153.47333333333333,148.48666666666668,154.35666666666665,181.04,156.0533333333333,163.50333333333333,168.4366666666667,152.73000000000002,144.16666666666666,160.42666666666665,169.9,155.28666666666666,152.64333333333335,157.00333333333333,153.9466666666667,158.54999999999998,154.42333333333335,165.67666666666665,150.15666666666667,155.47333333333333,154.61666666666667,162.79666666666665,166.49666666666667,159.48666666666668,154.92666666666665,151.39,156.01333333333335,156.25333333333333,154.89333333333335,153.50333333333336,154.47333333333333,173.89666666666668,181.10666666666665,163.48,153.82666666666665,154.82333333333335,149.53,154.03666666666666,160.01000000000002,171.96333333333334,157.19,150.58333333333334,156.79999999999998,157.82333333333335,159.65,160.96333333333334,151.84,152.39,158.36333333333332,172.03,164.14333333333335,155.18333333333337,156.54999999999998,153.29666666666665,154.50333333333333,158.38333333333335,155.77333333333334,167.93666666666664,155.80666666666664,158.38333333333333,166.58666666666667,156.57333333333335,151.0633333333333,157.17999999999998,166.67999999999998,151.81,156.89666666666665,152.42666666666665,159.47666666666666,159.36666666666667,155.67666666666665,159.22666666666666,155.91666666666666,155.26666666666668,203.4466666666667,151.96,151.86,155.5233333333333,171.46000000000004,157.26333333333332,150.51000000000002,157.89666666666668,160.54,177.28,162.18666666666667,156.52,162.41333333333333,152.77,158.72333333333333,208.42,148.44,147.43999999999997,149.37333333333333,160.10333333333332,160.60666666666668,155.04999999999998,159.1866666666667,152.85666666666665,157.79333333333332,151.23666666666665,149.68333333333334,165.29,149.18,153.6,152.73666666666665,157.79999999999998,160.85000000000002,170.91333333333333,156.82666666666668,153.17,161.84666666666666,157.58333333333331],\"xaxis\":\"x\",\"y\":[18.033333333333335,24.266666666666666,25.5,28.666666666666668,20.933333333333334,23.066666666666666,24.0,22.566666666666666,27.666666666666668,21.833333333333332,21.23333333333333,22.900000000000002,29.26666666666667,26.96666666666667,27.933333333333334,25.066666666666666,27.8,17.233333333333334,25.46666666666667,24.599999999999998,24.766666666666666,24.26666666666667,22.933333333333334,19.099999999999998,26.333333333333332,23.3,31.366666666666664,26.933333333333334,24.933333333333334,22.566666666666666,27.433333333333334,24.53333333333333,28.600000000000005,24.633333333333336,23.7,26.333333333333332,26.866666666666664,29.133333333333336,27.900000000000002,23.233333333333334,29.53333333333333,21.53333333333333,26.133333333333336,30.666666666666668,27.833333333333332,20.933333333333334,23.366666666666664,24.7,23.933333333333334,26.066666666666666,27.700000000000003,29.666666666666668,22.666666666666668,23.433333333333337,29.599999999999998,28.46666666666667,25.099999999999998,28.866666666666664,29.599999999999998,27.333333333333332,25.899999999999995,26.5,26.8,21.633333333333336,23.900000000000002,22.3,26.566666666666663,24.53333333333333,20.366666666666667,24.666666666666668,22.433333333333334,23.599999999999998,25.2,21.3,22.7,20.900000000000002,22.3,23.5,28.933333333333334,28.76666666666667,27.400000000000002,28.366666666666664,19.599999999999998,15.466666666666667,19.466666666666665,22.900000000000002,23.333333333333332,21.833333333333332,27.766666666666666,24.133333333333336,22.833333333333332,26.96666666666667,27.96666666666667,23.099999999999998,27.46666666666667,32.300000000000004,28.399999999999995,29.066666666666666,25.099999999999998,23.3,26.3,23.166666666666668,27.3,32.699999999999996,26.53333333333333,28.733333333333334,25.666666666666668,28.066666666666666,23.733333333333334,26.400000000000002,29.366666666666664,29.46666666666667,27.7,26.0,26.233333333333334,24.7,27.566666666666666,33.266666666666666,25.7,19.5,21.266666666666666,29.366666666666664,32.6,26.0,26.599999999999998,31.700000000000003],\"yaxis\":\"y\",\"type\":\"scatter\"},{\"hovertemplate\":\"<b>OLS trendline</b><br>temperature = -0.0122423 * ELI + 27.3938<br>R<sup>2</sup>=0.001109<br><br>ELI=%{x}<br>temperature=%{y} <b>(trend)</b><extra></extra>\",\"legendgroup\":\"\",\"marker\":{\"color\":\"#636efa\",\"symbol\":\"circle\"},\"mode\":\"lines\",\"name\":\"\",\"showlegend\":false,\"x\":[144.16666666666666,147.43999999999997,148.44,148.48666666666668,149.18,149.37333333333333,149.53,149.68333333333334,150.15666666666667,150.51000000000002,150.58333333333334,151.0633333333333,151.23666666666665,151.39,151.81,151.84,151.86,151.96,152.39,152.42666666666665,152.64333333333335,152.73000000000002,152.73666666666665,152.77,152.85666666666665,153.17,153.29666666666665,153.47333333333333,153.50333333333336,153.6,153.82666666666665,153.9466666666667,154.03666666666666,154.35666666666665,154.42333333333335,154.47333333333333,154.50333333333333,154.61666666666667,154.82333333333335,154.89333333333335,154.92666666666665,155.04999999999998,155.18333333333337,155.26666666666668,155.27666666666667,155.28666666666666,155.47333333333333,155.5233333333333,155.67666666666665,155.77333333333334,155.80666666666664,155.91666666666666,156.01333333333335,156.0533333333333,156.1833333333333,156.25333333333333,156.42,156.52,156.54999999999998,156.57333333333335,156.79999999999998,156.82666666666668,156.89666666666665,157.00333333333333,157.17999999999998,157.19,157.26333333333332,157.58333333333331,157.79333333333332,157.79999999999998,157.82333333333335,157.89666666666668,158.36333333333332,158.38333333333333,158.38333333333335,158.54999999999998,158.72333333333333,159.01333333333332,159.1866666666667,159.22666666666666,159.36666666666667,159.47666666666666,159.48666666666668,159.57000000000002,159.65,159.72666666666666,159.85,160.01000000000002,160.10333333333332,160.11666666666667,160.42666666666665,160.54,160.60666666666668,160.85000000000002,160.96333333333334,161.84666666666666,161.85666666666668,162.18666666666667,162.41333333333333,162.79666666666665,163.11333333333334,163.48,163.50333333333333,164.14333333333335,164.54,165.29,165.67666666666665,166.49666666666667,166.58666666666667,166.67999999999998,167.93666666666664,168.4366666666667,169.9,170.91333333333333,171.34666666666666,171.35333333333335,171.46000000000004,171.96333333333334,172.03,173.40666666666667,173.89666666666668,177.28,181.04,181.10666666666665,203.4466666666667,208.42],\"xaxis\":\"x\",\"y\":[25.62889917828048,25.588826151859777,25.57658388309581,25.576012577220162,25.56752460421048,25.565157765582782,25.56323981014309,25.561362662265953,25.555567988384343,25.55124238675441,25.550344620378386,25.544468331371682,25.542346338119263,25.54046919024212,25.535327437361257,25.534960169298337,25.53471532392306,25.533491097046664,25.528226921478158,25.527778038290148,25.52512554672462,25.524064550098412,25.52398293497332,25.523574859347853,25.52251386272164,25.518677951842268,25.5171272644655,25.514964463650532,25.514597195587612,25.513413776273765,25.5106388620206,25.509169789768922,25.508067985580166,25.504150459575698,25.503334308324767,25.50272219488657,25.50235492682365,25.50096746969707,25.49843740081918,25.497580442005706,25.49717236638024,25.49566248656602,25.494030184064155,25.49300999500049,25.492887572312853,25.492765149625214,25.490479926122607,25.48986781268441,25.487990664807267,25.486807245493416,25.48639916986795,25.485052520303917,25.483869100990066,25.483379410239507,25.481787915300192,25.480930956486716,25.478890578359387,25.47766635148299,25.477299083420075,25.47701343048225,25.474238516229082,25.47391205572871,25.473055096915232,25.471749254913743,25.469586454098778,25.469464031411135,25.468566265035115,25.464648739030647,25.462077862590213,25.46199624746512,25.461710594527293,25.46081282815127,25.455099769394753,25.454854924019475,25.454854924019475,25.45281454589215,25.450692552639726,25.44714229469818,25.44502030144576,25.4445306106952,25.442816693068245,25.441470043504207,25.44134762081657,25.440327431752905,25.439348050251787,25.43840947631322,25.436899596498996,25.43494083349676,25.43379822174546,25.43363499149527,25.429839888178442,25.428452431051863,25.42763627980093,25.424657327735034,25.42326987060845,25.412455866533616,25.412333443845977,25.40829349515387,25.405518580900704,25.40082571120785,25.396948992765928,25.39246016088581,25.392174507947985,25.38433945593905,25.37948335599601,25.370301654423038,25.36556797716764,25.355529316781187,25.35442751259243,25.35328490084113,25.337900449761083,25.3317793153791,25.313864795421168,25.301459296407018,25.29615431327597,25.296072698150876,25.294766856149387,25.288604914204857,25.287788762953927,25.270935239622204,25.264936527927862,25.22351685194312,25.17748592139062,25.17666977013969,24.903177485952757,24.842292602633314],\"yaxis\":\"y\",\"type\":\"scatter\"}],                        {\"template\":{\"data\":{\"histogram2dcontour\":[{\"type\":\"histogram2dcontour\",\"colorbar\":{\"outlinewidth\":0,\"ticks\":\"\"},\"colorscale\":[[0.0,\"#0d0887\"],[0.1111111111111111,\"#46039f\"],[0.2222222222222222,\"#7201a8\"],[0.3333333333333333,\"#9c179e\"],[0.4444444444444444,\"#bd3786\"],[0.5555555555555556,\"#d8576b\"],[0.6666666666666666,\"#ed7953\"],[0.7777777777777778,\"#fb9f3a\"],[0.8888888888888888,\"#fdca26\"],[1.0,\"#f0f921\"]]}],\"choropleth\":[{\"type\":\"choropleth\",\"colorbar\":{\"outlinewidth\":0,\"ticks\":\"\"}}],\"histogram2d\":[{\"type\":\"histogram2d\",\"colorbar\":{\"outlinewidth\":0,\"ticks\":\"\"},\"colorscale\":[[0.0,\"#0d0887\"],[0.1111111111111111,\"#46039f\"],[0.2222222222222222,\"#7201a8\"],[0.3333333333333333,\"#9c179e\"],[0.4444444444444444,\"#bd3786\"],[0.5555555555555556,\"#d8576b\"],[0.6666666666666666,\"#ed7953\"],[0.7777777777777778,\"#fb9f3a\"],[0.8888888888888888,\"#fdca26\"],[1.0,\"#f0f921\"]]}],\"heatmap\":[{\"type\":\"heatmap\",\"colorbar\":{\"outlinewidth\":0,\"ticks\":\"\"},\"colorscale\":[[0.0,\"#0d0887\"],[0.1111111111111111,\"#46039f\"],[0.2222222222222222,\"#7201a8\"],[0.3333333333333333,\"#9c179e\"],[0.4444444444444444,\"#bd3786\"],[0.5555555555555556,\"#d8576b\"],[0.6666666666666666,\"#ed7953\"],[0.7777777777777778,\"#fb9f3a\"],[0.8888888888888888,\"#fdca26\"],[1.0,\"#f0f921\"]]}],\"heatmapgl\":[{\"type\":\"heatmapgl\",\"colorbar\":{\"outlinewidth\":0,\"ticks\":\"\"},\"colorscale\":[[0.0,\"#0d0887\"],[0.1111111111111111,\"#46039f\"],[0.2222222222222222,\"#7201a8\"],[0.3333333333333333,\"#9c179e\"],[0.4444444444444444,\"#bd3786\"],[0.5555555555555556,\"#d8576b\"],[0.6666666666666666,\"#ed7953\"],[0.7777777777777778,\"#fb9f3a\"],[0.8888888888888888,\"#fdca26\"],[1.0,\"#f0f921\"]]}],\"contourcarpet\":[{\"type\":\"contourcarpet\",\"colorbar\":{\"outlinewidth\":0,\"ticks\":\"\"}}],\"contour\":[{\"type\":\"contour\",\"colorbar\":{\"outlinewidth\":0,\"ticks\":\"\"},\"colorscale\":[[0.0,\"#0d0887\"],[0.1111111111111111,\"#46039f\"],[0.2222222222222222,\"#7201a8\"],[0.3333333333333333,\"#9c179e\"],[0.4444444444444444,\"#bd3786\"],[0.5555555555555556,\"#d8576b\"],[0.6666666666666666,\"#ed7953\"],[0.7777777777777778,\"#fb9f3a\"],[0.8888888888888888,\"#fdca26\"],[1.0,\"#f0f921\"]]}],\"surface\":[{\"type\":\"surface\",\"colorbar\":{\"outlinewidth\":0,\"ticks\":\"\"},\"colorscale\":[[0.0,\"#0d0887\"],[0.1111111111111111,\"#46039f\"],[0.2222222222222222,\"#7201a8\"],[0.3333333333333333,\"#9c179e\"],[0.4444444444444444,\"#bd3786\"],[0.5555555555555556,\"#d8576b\"],[0.6666666666666666,\"#ed7953\"],[0.7777777777777778,\"#fb9f3a\"],[0.8888888888888888,\"#fdca26\"],[1.0,\"#f0f921\"]]}],\"mesh3d\":[{\"type\":\"mesh3d\",\"colorbar\":{\"outlinewidth\":0,\"ticks\":\"\"}}],\"scatter\":[{\"fillpattern\":{\"fillmode\":\"overlay\",\"size\":10,\"solidity\":0.2},\"type\":\"scatter\"}],\"parcoords\":[{\"type\":\"parcoords\",\"line\":{\"colorbar\":{\"outlinewidth\":0,\"ticks\":\"\"}}}],\"scatterpolargl\":[{\"type\":\"scatterpolargl\",\"marker\":{\"colorbar\":{\"outlinewidth\":0,\"ticks\":\"\"}}}],\"bar\":[{\"error_x\":{\"color\":\"#2a3f5f\"},\"error_y\":{\"color\":\"#2a3f5f\"},\"marker\":{\"line\":{\"color\":\"#E5ECF6\",\"width\":0.5},\"pattern\":{\"fillmode\":\"overlay\",\"size\":10,\"solidity\":0.2}},\"type\":\"bar\"}],\"scattergeo\":[{\"type\":\"scattergeo\",\"marker\":{\"colorbar\":{\"outlinewidth\":0,\"ticks\":\"\"}}}],\"scatterpolar\":[{\"type\":\"scatterpolar\",\"marker\":{\"colorbar\":{\"outlinewidth\":0,\"ticks\":\"\"}}}],\"histogram\":[{\"marker\":{\"pattern\":{\"fillmode\":\"overlay\",\"size\":10,\"solidity\":0.2}},\"type\":\"histogram\"}],\"scattergl\":[{\"type\":\"scattergl\",\"marker\":{\"colorbar\":{\"outlinewidth\":0,\"ticks\":\"\"}}}],\"scatter3d\":[{\"type\":\"scatter3d\",\"line\":{\"colorbar\":{\"outlinewidth\":0,\"ticks\":\"\"}},\"marker\":{\"colorbar\":{\"outlinewidth\":0,\"ticks\":\"\"}}}],\"scattermapbox\":[{\"type\":\"scattermapbox\",\"marker\":{\"colorbar\":{\"outlinewidth\":0,\"ticks\":\"\"}}}],\"scatterternary\":[{\"type\":\"scatterternary\",\"marker\":{\"colorbar\":{\"outlinewidth\":0,\"ticks\":\"\"}}}],\"scattercarpet\":[{\"type\":\"scattercarpet\",\"marker\":{\"colorbar\":{\"outlinewidth\":0,\"ticks\":\"\"}}}],\"carpet\":[{\"aaxis\":{\"endlinecolor\":\"#2a3f5f\",\"gridcolor\":\"white\",\"linecolor\":\"white\",\"minorgridcolor\":\"white\",\"startlinecolor\":\"#2a3f5f\"},\"baxis\":{\"endlinecolor\":\"#2a3f5f\",\"gridcolor\":\"white\",\"linecolor\":\"white\",\"minorgridcolor\":\"white\",\"startlinecolor\":\"#2a3f5f\"},\"type\":\"carpet\"}],\"table\":[{\"cells\":{\"fill\":{\"color\":\"#EBF0F8\"},\"line\":{\"color\":\"white\"}},\"header\":{\"fill\":{\"color\":\"#C8D4E3\"},\"line\":{\"color\":\"white\"}},\"type\":\"table\"}],\"barpolar\":[{\"marker\":{\"line\":{\"color\":\"#E5ECF6\",\"width\":0.5},\"pattern\":{\"fillmode\":\"overlay\",\"size\":10,\"solidity\":0.2}},\"type\":\"barpolar\"}],\"pie\":[{\"automargin\":true,\"type\":\"pie\"}]},\"layout\":{\"autotypenumbers\":\"strict\",\"colorway\":[\"#636efa\",\"#EF553B\",\"#00cc96\",\"#ab63fa\",\"#FFA15A\",\"#19d3f3\",\"#FF6692\",\"#B6E880\",\"#FF97FF\",\"#FECB52\"],\"font\":{\"color\":\"#2a3f5f\"},\"hovermode\":\"closest\",\"hoverlabel\":{\"align\":\"left\"},\"paper_bgcolor\":\"white\",\"plot_bgcolor\":\"#E5ECF6\",\"polar\":{\"bgcolor\":\"#E5ECF6\",\"angularaxis\":{\"gridcolor\":\"white\",\"linecolor\":\"white\",\"ticks\":\"\"},\"radialaxis\":{\"gridcolor\":\"white\",\"linecolor\":\"white\",\"ticks\":\"\"}},\"ternary\":{\"bgcolor\":\"#E5ECF6\",\"aaxis\":{\"gridcolor\":\"white\",\"linecolor\":\"white\",\"ticks\":\"\"},\"baxis\":{\"gridcolor\":\"white\",\"linecolor\":\"white\",\"ticks\":\"\"},\"caxis\":{\"gridcolor\":\"white\",\"linecolor\":\"white\",\"ticks\":\"\"}},\"coloraxis\":{\"colorbar\":{\"outlinewidth\":0,\"ticks\":\"\"}},\"colorscale\":{\"sequential\":[[0.0,\"#0d0887\"],[0.1111111111111111,\"#46039f\"],[0.2222222222222222,\"#7201a8\"],[0.3333333333333333,\"#9c179e\"],[0.4444444444444444,\"#bd3786\"],[0.5555555555555556,\"#d8576b\"],[0.6666666666666666,\"#ed7953\"],[0.7777777777777778,\"#fb9f3a\"],[0.8888888888888888,\"#fdca26\"],[1.0,\"#f0f921\"]],\"sequentialminus\":[[0.0,\"#0d0887\"],[0.1111111111111111,\"#46039f\"],[0.2222222222222222,\"#7201a8\"],[0.3333333333333333,\"#9c179e\"],[0.4444444444444444,\"#bd3786\"],[0.5555555555555556,\"#d8576b\"],[0.6666666666666666,\"#ed7953\"],[0.7777777777777778,\"#fb9f3a\"],[0.8888888888888888,\"#fdca26\"],[1.0,\"#f0f921\"]],\"diverging\":[[0,\"#8e0152\"],[0.1,\"#c51b7d\"],[0.2,\"#de77ae\"],[0.3,\"#f1b6da\"],[0.4,\"#fde0ef\"],[0.5,\"#f7f7f7\"],[0.6,\"#e6f5d0\"],[0.7,\"#b8e186\"],[0.8,\"#7fbc41\"],[0.9,\"#4d9221\"],[1,\"#276419\"]]},\"xaxis\":{\"gridcolor\":\"white\",\"linecolor\":\"white\",\"ticks\":\"\",\"title\":{\"standoff\":15},\"zerolinecolor\":\"white\",\"automargin\":true,\"zerolinewidth\":2},\"yaxis\":{\"gridcolor\":\"white\",\"linecolor\":\"white\",\"ticks\":\"\",\"title\":{\"standoff\":15},\"zerolinecolor\":\"white\",\"automargin\":true,\"zerolinewidth\":2},\"scene\":{\"xaxis\":{\"backgroundcolor\":\"#E5ECF6\",\"gridcolor\":\"white\",\"linecolor\":\"white\",\"showbackground\":true,\"ticks\":\"\",\"zerolinecolor\":\"white\",\"gridwidth\":2},\"yaxis\":{\"backgroundcolor\":\"#E5ECF6\",\"gridcolor\":\"white\",\"linecolor\":\"white\",\"showbackground\":true,\"ticks\":\"\",\"zerolinecolor\":\"white\",\"gridwidth\":2},\"zaxis\":{\"backgroundcolor\":\"#E5ECF6\",\"gridcolor\":\"white\",\"linecolor\":\"white\",\"showbackground\":true,\"ticks\":\"\",\"zerolinecolor\":\"white\",\"gridwidth\":2}},\"shapedefaults\":{\"line\":{\"color\":\"#2a3f5f\"}},\"annotationdefaults\":{\"arrowcolor\":\"#2a3f5f\",\"arrowhead\":0,\"arrowwidth\":1},\"geo\":{\"bgcolor\":\"white\",\"landcolor\":\"#E5ECF6\",\"subunitcolor\":\"white\",\"showland\":true,\"showlakes\":true,\"lakecolor\":\"white\"},\"title\":{\"x\":0.05},\"mapbox\":{\"style\":\"light\"}}},\"xaxis\":{\"anchor\":\"y\",\"domain\":[0.0,1.0],\"title\":{\"text\":\"ELI\"}},\"yaxis\":{\"anchor\":\"x\",\"domain\":[0.0,1.0],\"title\":{\"text\":\"temperature\"}},\"legend\":{\"tracegroupgap\":0},\"margin\":{\"t\":60}},                        {\"responsive\": true}                    ).then(function(){\n",
       "                            \n",
       "var gd = document.getElementById('9a9d3d8b-dfc5-49bd-b81c-3ab7a578c85c');\n",
       "var x = new MutationObserver(function (mutations, observer) {{\n",
       "        var display = window.getComputedStyle(gd).display;\n",
       "        if (!display || display === 'none') {{\n",
       "            console.log([gd, 'removed!']);\n",
       "            Plotly.purge(gd);\n",
       "            observer.disconnect();\n",
       "        }}\n",
       "}});\n",
       "\n",
       "// Listen for the removal of the full notebook cells\n",
       "var notebookContainer = gd.closest('#notebook-container');\n",
       "if (notebookContainer) {{\n",
       "    x.observe(notebookContainer, {childList: true});\n",
       "}}\n",
       "\n",
       "// Listen for the clearing of the current output cell\n",
       "var outputEl = gd.closest('.output');\n",
       "if (outputEl) {{\n",
       "    x.observe(outputEl, {childList: true});\n",
       "}}\n",
       "\n",
       "                        })                };                });            </script>        </div>"
      ]
     },
     "metadata": {},
     "output_type": "display_data"
    }
   ],
   "source": [
    "import plotly.express as px\n",
    "\n",
    "fig = px.scatter(merged_data, x=\"ELI\", y=\"temperature\", trendline=\"ols\")\n",
    "fig.show()"
   ]
  },
  {
   "cell_type": "code",
   "execution_count": 53,
   "metadata": {},
   "outputs": [
    {
     "data": {
      "text/html": [
       "<table class=\"simpletable\">\n",
       "<caption>OLS Regression Results</caption>\n",
       "<tr>\n",
       "  <th>Dep. Variable:</th>            <td>y</td>        <th>  R-squared:         </th> <td>   0.001</td>\n",
       "</tr>\n",
       "<tr>\n",
       "  <th>Model:</th>                   <td>OLS</td>       <th>  Adj. R-squared:    </th> <td>  -0.007</td>\n",
       "</tr>\n",
       "<tr>\n",
       "  <th>Method:</th>             <td>Least Squares</td>  <th>  F-statistic:       </th> <td>  0.1377</td>\n",
       "</tr>\n",
       "<tr>\n",
       "  <th>Date:</th>             <td>Thu, 14 Sep 2023</td> <th>  Prob (F-statistic):</th>  <td> 0.711</td> \n",
       "</tr>\n",
       "<tr>\n",
       "  <th>Time:</th>                 <td>12:38:36</td>     <th>  Log-Likelihood:    </th> <td> -329.89</td>\n",
       "</tr>\n",
       "<tr>\n",
       "  <th>No. Observations:</th>      <td>   126</td>      <th>  AIC:               </th> <td>   663.8</td>\n",
       "</tr>\n",
       "<tr>\n",
       "  <th>Df Residuals:</th>          <td>   124</td>      <th>  BIC:               </th> <td>   669.4</td>\n",
       "</tr>\n",
       "<tr>\n",
       "  <th>Df Model:</th>              <td>     1</td>      <th>                     </th>     <td> </td>   \n",
       "</tr>\n",
       "<tr>\n",
       "  <th>Covariance Type:</th>      <td>nonrobust</td>    <th>                     </th>     <td> </td>   \n",
       "</tr>\n",
       "</table>\n",
       "<table class=\"simpletable\">\n",
       "<tr>\n",
       "    <td></td>       <th>coef</th>     <th>std err</th>      <th>t</th>      <th>P>|t|</th>  <th>[0.025</th>    <th>0.975]</th>  \n",
       "</tr>\n",
       "<tr>\n",
       "  <th>const</th> <td>   27.3938</td> <td>    5.258</td> <td>    5.210</td> <td> 0.000</td> <td>   16.988</td> <td>   37.800</td>\n",
       "</tr>\n",
       "<tr>\n",
       "  <th>x1</th>    <td>   -0.0122</td> <td>    0.033</td> <td>   -0.371</td> <td> 0.711</td> <td>   -0.078</td> <td>    0.053</td>\n",
       "</tr>\n",
       "</table>\n",
       "<table class=\"simpletable\">\n",
       "<tr>\n",
       "  <th>Omnibus:</th>       <td> 0.595</td> <th>  Durbin-Watson:     </th> <td>   1.980</td>\n",
       "</tr>\n",
       "<tr>\n",
       "  <th>Prob(Omnibus):</th> <td> 0.743</td> <th>  Jarque-Bera (JB):  </th> <td>   0.425</td>\n",
       "</tr>\n",
       "<tr>\n",
       "  <th>Skew:</th>          <td>-0.142</td> <th>  Prob(JB):          </th> <td>   0.808</td>\n",
       "</tr>\n",
       "<tr>\n",
       "  <th>Kurtosis:</th>      <td> 3.030</td> <th>  Cond. No.          </th> <td>2.81e+03</td>\n",
       "</tr>\n",
       "</table><br/><br/>Notes:<br/>[1] Standard Errors assume that the covariance matrix of the errors is correctly specified.<br/>[2] The condition number is large, 2.81e+03. This might indicate that there are<br/>strong multicollinearity or other numerical problems."
      ],
      "text/latex": [
       "\\begin{center}\n",
       "\\begin{tabular}{lclc}\n",
       "\\toprule\n",
       "\\textbf{Dep. Variable:}    &        y         & \\textbf{  R-squared:         } &     0.001   \\\\\n",
       "\\textbf{Model:}            &       OLS        & \\textbf{  Adj. R-squared:    } &    -0.007   \\\\\n",
       "\\textbf{Method:}           &  Least Squares   & \\textbf{  F-statistic:       } &    0.1377   \\\\\n",
       "\\textbf{Date:}             & Thu, 14 Sep 2023 & \\textbf{  Prob (F-statistic):} &    0.711    \\\\\n",
       "\\textbf{Time:}             &     12:38:36     & \\textbf{  Log-Likelihood:    } &   -329.89   \\\\\n",
       "\\textbf{No. Observations:} &         126      & \\textbf{  AIC:               } &     663.8   \\\\\n",
       "\\textbf{Df Residuals:}     &         124      & \\textbf{  BIC:               } &     669.4   \\\\\n",
       "\\textbf{Df Model:}         &           1      & \\textbf{                     } &             \\\\\n",
       "\\textbf{Covariance Type:}  &    nonrobust     & \\textbf{                     } &             \\\\\n",
       "\\bottomrule\n",
       "\\end{tabular}\n",
       "\\begin{tabular}{lcccccc}\n",
       "               & \\textbf{coef} & \\textbf{std err} & \\textbf{t} & \\textbf{P$> |$t$|$} & \\textbf{[0.025} & \\textbf{0.975]}  \\\\\n",
       "\\midrule\n",
       "\\textbf{const} &      27.3938  &        5.258     &     5.210  &         0.000        &       16.988    &       37.800     \\\\\n",
       "\\textbf{x1}    &      -0.0122  &        0.033     &    -0.371  &         0.711        &       -0.078    &        0.053     \\\\\n",
       "\\bottomrule\n",
       "\\end{tabular}\n",
       "\\begin{tabular}{lclc}\n",
       "\\textbf{Omnibus:}       &  0.595 & \\textbf{  Durbin-Watson:     } &    1.980  \\\\\n",
       "\\textbf{Prob(Omnibus):} &  0.743 & \\textbf{  Jarque-Bera (JB):  } &    0.425  \\\\\n",
       "\\textbf{Skew:}          & -0.142 & \\textbf{  Prob(JB):          } &    0.808  \\\\\n",
       "\\textbf{Kurtosis:}      &  3.030 & \\textbf{  Cond. No.          } & 2.81e+03  \\\\\n",
       "\\bottomrule\n",
       "\\end{tabular}\n",
       "%\\caption{OLS Regression Results}\n",
       "\\end{center}\n",
       "\n",
       "Notes: \\newline\n",
       " [1] Standard Errors assume that the covariance matrix of the errors is correctly specified. \\newline\n",
       " [2] The condition number is large, 2.81e+03. This might indicate that there are \\newline\n",
       " strong multicollinearity or other numerical problems."
      ],
      "text/plain": [
       "<class 'statsmodels.iolib.summary.Summary'>\n",
       "\"\"\"\n",
       "                            OLS Regression Results                            \n",
       "==============================================================================\n",
       "Dep. Variable:                      y   R-squared:                       0.001\n",
       "Model:                            OLS   Adj. R-squared:                 -0.007\n",
       "Method:                 Least Squares   F-statistic:                    0.1377\n",
       "Date:                Thu, 14 Sep 2023   Prob (F-statistic):              0.711\n",
       "Time:                        12:38:36   Log-Likelihood:                -329.89\n",
       "No. Observations:                 126   AIC:                             663.8\n",
       "Df Residuals:                     124   BIC:                             669.4\n",
       "Df Model:                           1                                         \n",
       "Covariance Type:            nonrobust                                         \n",
       "==============================================================================\n",
       "                 coef    std err          t      P>|t|      [0.025      0.975]\n",
       "------------------------------------------------------------------------------\n",
       "const         27.3938      5.258      5.210      0.000      16.988      37.800\n",
       "x1            -0.0122      0.033     -0.371      0.711      -0.078       0.053\n",
       "==============================================================================\n",
       "Omnibus:                        0.595   Durbin-Watson:                   1.980\n",
       "Prob(Omnibus):                  0.743   Jarque-Bera (JB):                0.425\n",
       "Skew:                          -0.142   Prob(JB):                        0.808\n",
       "Kurtosis:                       3.030   Cond. No.                     2.81e+03\n",
       "==============================================================================\n",
       "\n",
       "Notes:\n",
       "[1] Standard Errors assume that the covariance matrix of the errors is correctly specified.\n",
       "[2] The condition number is large, 2.81e+03. This might indicate that there are\n",
       "strong multicollinearity or other numerical problems.\n",
       "\"\"\""
      ]
     },
     "execution_count": 53,
     "metadata": {},
     "output_type": "execute_result"
    }
   ],
   "source": [
    "results = px.get_trendline_results(fig)\n",
    "results.px_fit_results.iloc[0].summary()"
   ]
  },
  {
   "cell_type": "code",
   "execution_count": 43,
   "metadata": {},
   "outputs": [
    {
     "data": {
      "text/html": [
       "<div>\n",
       "<style scoped>\n",
       "    .dataframe tbody tr th:only-of-type {\n",
       "        vertical-align: middle;\n",
       "    }\n",
       "\n",
       "    .dataframe tbody tr th {\n",
       "        vertical-align: top;\n",
       "    }\n",
       "\n",
       "    .dataframe thead th {\n",
       "        text-align: right;\n",
       "    }\n",
       "</style>\n",
       "<table border=\"1\" class=\"dataframe\">\n",
       "  <thead>\n",
       "    <tr style=\"text-align: right;\">\n",
       "      <th></th>\n",
       "      <th>temperature</th>\n",
       "      <th>ELI</th>\n",
       "    </tr>\n",
       "    <tr>\n",
       "      <th>date</th>\n",
       "      <th></th>\n",
       "      <th></th>\n",
       "    </tr>\n",
       "  </thead>\n",
       "  <tbody>\n",
       "    <tr>\n",
       "      <th>1895</th>\n",
       "      <td>18.033333</td>\n",
       "      <td>161.856667</td>\n",
       "    </tr>\n",
       "    <tr>\n",
       "      <th>1896</th>\n",
       "      <td>24.266667</td>\n",
       "      <td>159.570000</td>\n",
       "    </tr>\n",
       "    <tr>\n",
       "      <th>1897</th>\n",
       "      <td>25.500000</td>\n",
       "      <td>164.540000</td>\n",
       "    </tr>\n",
       "    <tr>\n",
       "      <th>1898</th>\n",
       "      <td>28.666667</td>\n",
       "      <td>156.183333</td>\n",
       "    </tr>\n",
       "    <tr>\n",
       "      <th>1899</th>\n",
       "      <td>20.933333</td>\n",
       "      <td>159.013333</td>\n",
       "    </tr>\n",
       "    <tr>\n",
       "      <th>...</th>\n",
       "      <td>...</td>\n",
       "      <td>...</td>\n",
       "    </tr>\n",
       "    <tr>\n",
       "      <th>2016</th>\n",
       "      <td>29.366667</td>\n",
       "      <td>170.913333</td>\n",
       "    </tr>\n",
       "    <tr>\n",
       "      <th>2017</th>\n",
       "      <td>32.600000</td>\n",
       "      <td>156.826667</td>\n",
       "    </tr>\n",
       "    <tr>\n",
       "      <th>2018</th>\n",
       "      <td>26.000000</td>\n",
       "      <td>153.170000</td>\n",
       "    </tr>\n",
       "    <tr>\n",
       "      <th>2019</th>\n",
       "      <td>26.600000</td>\n",
       "      <td>161.846667</td>\n",
       "    </tr>\n",
       "    <tr>\n",
       "      <th>2020</th>\n",
       "      <td>31.700000</td>\n",
       "      <td>157.583333</td>\n",
       "    </tr>\n",
       "  </tbody>\n",
       "</table>\n",
       "<p>126 rows × 2 columns</p>\n",
       "</div>"
      ],
      "text/plain": [
       "      temperature         ELI\n",
       "date                         \n",
       "1895    18.033333  161.856667\n",
       "1896    24.266667  159.570000\n",
       "1897    25.500000  164.540000\n",
       "1898    28.666667  156.183333\n",
       "1899    20.933333  159.013333\n",
       "...           ...         ...\n",
       "2016    29.366667  170.913333\n",
       "2017    32.600000  156.826667\n",
       "2018    26.000000  153.170000\n",
       "2019    26.600000  161.846667\n",
       "2020    31.700000  157.583333\n",
       "\n",
       "[126 rows x 2 columns]"
      ]
     },
     "execution_count": 43,
     "metadata": {},
     "output_type": "execute_result"
    }
   ],
   "source": []
  },
  {
   "cell_type": "code",
   "execution_count": null,
   "metadata": {},
   "outputs": [],
   "source": []
  }
 ],
 "metadata": {
  "kernelspec": {
   "display_name": "Python 3 (ipykernel)",
   "language": "python",
   "name": "python3"
  },
  "language_info": {
   "codemirror_mode": {
    "name": "ipython",
    "version": 3
   },
   "file_extension": ".py",
   "mimetype": "text/x-python",
   "name": "python",
   "nbconvert_exporter": "python",
   "pygments_lexer": "ipython3",
   "version": "3.11.4"
  }
 },
 "nbformat": 4,
 "nbformat_minor": 2
}
